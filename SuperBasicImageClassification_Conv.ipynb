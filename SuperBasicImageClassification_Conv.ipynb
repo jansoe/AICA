{
  "nbformat": 4,
  "nbformat_minor": 0,
  "metadata": {
    "colab": {
      "provenance": [],
      "include_colab_link": true
    },
    "kernelspec": {
      "name": "python3",
      "display_name": "Python 3"
    },
    "accelerator": "GPU"
  },
  "cells": [
    {
      "cell_type": "markdown",
      "metadata": {
        "id": "view-in-github",
        "colab_type": "text"
      },
      "source": [
        "<a href=\"https://colab.research.google.com/github/jansoe/AICA/blob/main/SuperBasicImageClassification_Conv.ipynb\" target=\"_parent\"><img src=\"https://colab.research.google.com/assets/colab-badge.svg\" alt=\"Open In Colab\"/></a>"
      ]
    },
    {
      "cell_type": "markdown",
      "metadata": {
        "id": "kJLb0L98ur9d"
      },
      "source": [
        "# A simple Artifical Neural Network"
      ]
    },
    {
      "cell_type": "code",
      "metadata": {
        "id": "2D8gzaqdFm3J"
      },
      "source": [
        "import tensorflow as tf\n",
        "import matplotlib.pyplot as plt"
      ],
      "execution_count": null,
      "outputs": []
    },
    {
      "cell_type": "markdown",
      "metadata": {
        "id": "OOh2DRwrLoJN"
      },
      "source": [
        "## The Data\n"
      ]
    },
    {
      "cell_type": "markdown",
      "metadata": {
        "id": "7aOlul7618kS"
      },
      "source": [
        "Our toy data: The MNIST dastaset (handwritten digit recognition)"
      ]
    },
    {
      "cell_type": "code",
      "metadata": {
        "id": "6FK0XF6p1tJv",
        "colab": {
          "base_uri": "https://localhost:8080/"
        },
        "outputId": "3341f6f2-0b58-4b12-c1a8-299fbe9f8a82"
      },
      "source": [
        "mnist = tf.keras.datasets.mnist\n",
        "(train_images, train_labels), (test_images, test_labels) = mnist.load_data()\n",
        "\n",
        "# scaling the pixel values to the range (-1, 1) \n",
        "train_images = (train_images/255 - 0.5) * 2\n",
        "test_images = (test_images/255 - 0.5) * 2"
      ],
      "execution_count": null,
      "outputs": [
        {
          "output_type": "stream",
          "name": "stdout",
          "text": [
            "Downloading data from https://storage.googleapis.com/tensorflow/tf-keras-datasets/mnist.npz\n",
            "11490434/11490434 [==============================] - 2s 0us/step\n"
          ]
        }
      ]
    },
    {
      "cell_type": "code",
      "metadata": {
        "id": "ipAYhZWdjaKs",
        "colab": {
          "base_uri": "https://localhost:8080/",
          "height": 452
        },
        "outputId": "afe7a607-dfde-4739-d175-9ba92c67531e"
      },
      "source": [
        "_ = plt.imshow(test_images[2], cmap=plt.cm.gray)\n",
        "_ = plt.title('Label: %s'%test_labels[2])"
      ],
      "execution_count": null,
      "outputs": [
        {
          "output_type": "display_data",
          "data": {
            "text/plain": [
              "<Figure size 640x480 with 1 Axes>"
            ],
            "image/png": "[encoded data removed]"
          },
          "metadata": {}
        }
      ]
    },
    {
      "cell_type": "code",
      "metadata": {
        "id": "c4gvGiq8qxOo",
        "colab": {
          "base_uri": "https://localhost:8080/"
        },
        "outputId": "2fd74543-ed5f-4a96-9508-13c5aa10722c"
      },
      "source": [
        "train_images.shape"
      ],
      "execution_count": null,
      "outputs": [
        {
          "output_type": "execute_result",
          "data": {
            "text/plain": [
              "(60000, 28, 28)"
            ]
          },
          "metadata": {},
          "execution_count": 4
        }
      ]
    },
    {
      "cell_type": "markdown",
      "metadata": {
        "id": "lRX-plXXq5Ta"
      },
      "source": [
        "The training data conatins 60.000 samples of handwritten digits. \n",
        "The data is inherently 2D (28x28 pixel).\n",
        "\n",
        "For our first network we will create now a simple 1D-Vector by flattening the images and thus discarding the 2D neighbourhood structure."
      ]
    },
    {
      "cell_type": "code",
      "metadata": {
        "id": "9RaVzw2Vq4d8",
        "colab": {
          "base_uri": "https://localhost:8080/"
        },
        "outputId": "8b8c3d30-3335-42a0-dad6-087c12701640"
      },
      "source": [
        "train_images_flat = train_images.reshape((-1, 28*28))\n",
        "test_images_flat = test_images.reshape((-1, 28*28))\n",
        "\n",
        "train_images_flat.shape"
      ],
      "execution_count": null,
      "outputs": [
        {
          "output_type": "execute_result",
          "data": {
            "text/plain": [
              "(60000, 784)"
            ]
          },
          "metadata": {},
          "execution_count": 5
        }
      ]
    },
    {
      "cell_type": "code",
      "metadata": {
        "colab": {
          "base_uri": "https://localhost:8080/",
          "height": 76
        },
        "id": "2yGULPVcKjQt",
        "outputId": "d74a39a7-d942-481e-e872-23601bc4495b"
      },
      "source": [
        "plt.figure(figsize=(20,0.1))\n",
        "_ = plt.imshow(test_images_flat[2].reshape(1, -1), cmap=plt.cm.gray, aspect='auto')\n",
        "_ = plt.title('Label: %s'%test_labels[2])\n",
        "_ = plt.yticks([])"
      ],
      "execution_count": null,
      "outputs": [
        {
          "output_type": "display_data",
          "data": {
            "text/plain": [
              "<Figure size 2000x10 with 1 Axes>"
            ],
            "image/png": "[encoded data removed]"
          },
          "metadata": {}
        }
      ]
    },
    {
      "cell_type": "markdown",
      "metadata": {
        "id": "FOOqKQWLL2A0"
      },
      "source": [
        "## The most simple Network "
      ]
    },
    {
      "cell_type": "markdown",
      "metadata": {
        "id": "FVjU-G023yYc"
      },
      "source": [
        "All features (pixel values) are mapped to probabilities for all 10 labels\n",
        "\n"
      ]
    },
    {
      "cell_type": "code",
      "metadata": {
        "id": "Mc5JrZik2cqa"
      },
      "source": [
        "# A Dense Layer ist an all-to-all conection of input and output neurons\n",
        "out_layer = tf.keras.layers.Dense(\n",
        "    input_shape=(784,),             \n",
        "    units=10,                      # output: 10 units for 10 categories\n",
        "    activation='softmax',          # softmax-activation, so that probabilities sum up to 1\n",
        "    name = 'probabilities'\n",
        ")"
      ],
      "execution_count": null,
      "outputs": []
    },
    {
      "cell_type": "code",
      "metadata": {
        "id": "C9vs1_u279O2"
      },
      "source": [
        "model1 = tf.keras.models.Sequential()\n",
        "model1.add(out_layer)"
      ],
      "execution_count": null,
      "outputs": []
    },
    {
      "cell_type": "code",
      "metadata": {
        "id": "tGv2G8eN_5tD",
        "colab": {
          "base_uri": "https://localhost:8080/",
          "height": 201
        },
        "outputId": "3b01704d-b35c-4312-e905-0e31a9450c1c"
      },
      "source": [
        "tf.keras.utils.plot_model(model1, show_shapes=True)"
      ],
      "execution_count": null,
      "outputs": [
        {
          "output_type": "execute_result",
          "data": {
            "image/png": "[encoded data removed]",
            "text/plain": [
              "<IPython.core.display.Image object>"
            ]
          },
          "metadata": {},
          "execution_count": 9
        }
      ]
    },
    {
      "cell_type": "code",
      "metadata": {
        "id": "YUuXfMJEMVdt",
        "colab": {
          "base_uri": "https://localhost:8080/"
        },
        "outputId": "c69a39e9-33e7-432b-94f6-9a8a28c8554a"
      },
      "source": [
        "model1.summary()"
      ],
      "execution_count": null,
      "outputs": [
        {
          "output_type": "stream",
          "name": "stdout",
          "text": [
            "Model: \"sequential\"\n",
            "_________________________________________________________________\n",
            " Layer (type)                Output Shape              Param #   \n",
            "=================================================================\n",
            " probabilities (Dense)       (None, 10)                7850      \n",
            "                                                                 \n",
            "=================================================================\n",
            "Total params: 7,850\n",
            "Trainable params: 7,850\n",
            "Non-trainable params: 0\n",
            "_________________________________________________________________\n"
          ]
        }
      ]
    },
    {
      "cell_type": "markdown",
      "metadata": {
        "id": "Dow5veHRA1wX"
      },
      "source": [
        "For training the model we need to specify the loss to minimize, and the procedure to do this.\n",
        "\n",
        "For our case of `multiclass-classification` we can use the loss of `categorical_crossentropy`, which measures how many bits of uncertainty are left to obtain the true labels given our prediction.\n",
        "\n",
        "We use **sparse**`_categorical_crossentropy` because our labels are encoded sparse i.e. as integers 0,1,..,9 and not as binary **one-hot** labels: (1,0,0,0,0,0,0,0,0,0,0), (0,1,0,0,0,0,0,0,0,0,0), ...,  (0,0,0,0,0,0,0,0,0,0,1)"
      ]
    },
    {
      "cell_type": "code",
      "metadata": {
        "id": "D3Nad9XbA8XW"
      },
      "source": [
        "model1.compile(\n",
        "    loss = 'sparse_categorical_crossentropy', \n",
        "    optimizer = 'SGD',      # optimization procdure\n",
        "    metrics = ['accuracy']  # Monitoring training\n",
        ")"
      ],
      "execution_count": null,
      "outputs": []
    },
    {
      "cell_type": "markdown",
      "metadata": {
        "id": "MB4gy14O-LzI"
      },
      "source": [
        "Now we can fit our data to the model"
      ]
    },
    {
      "cell_type": "code",
      "metadata": {
        "id": "SVZUPHhm8LOD",
        "colab": {
          "base_uri": "https://localhost:8080/"
        },
        "outputId": "c8ac0508-7a31-462b-ce7d-a2ff63cc99d7"
      },
      "source": [
        "history = model1.fit(\n",
        "    x = train_images_flat, \n",
        "    y = train_labels,\n",
        "    batch_size = 16,\n",
        "    validation_data = (test_images_flat, test_labels),\n",
        "    epochs = 20  # one epoche is one sweep through the training data\n",
        ")"
      ],
      "execution_count": null,
      "outputs": [
        {
          "output_type": "stream",
          "name": "stdout",
          "text": [
            "Epoch 1/20\n",
            "3750/3750 [==============================] - 25s 5ms/step - loss: 0.4497 - accuracy: 0.8695 - val_loss: 0.3308 - val_accuracy: 0.9031\n",
            "Epoch 2/20\n",
            "3750/3750 [==============================] - 13s 3ms/step - loss: 0.3299 - accuracy: 0.9053 - val_loss: 0.3080 - val_accuracy: 0.9157\n",
            "Epoch 3/20\n",
            "3750/3750 [==============================] - 10s 3ms/step - loss: 0.3108 - accuracy: 0.9100 - val_loss: 0.2983 - val_accuracy: 0.9148\n",
            "Epoch 4/20\n",
            "3750/3750 [==============================] - 12s 3ms/step - loss: 0.3008 - accuracy: 0.9133 - val_loss: 0.2960 - val_accuracy: 0.9127\n",
            "Epoch 5/20\n",
            "3750/3750 [==============================] - 10s 3ms/step - loss: 0.2942 - accuracy: 0.9158 - val_loss: 0.2839 - val_accuracy: 0.9183\n",
            "Epoch 6/20\n",
            "3750/3750 [==============================] - 10s 3ms/step - loss: 0.2896 - accuracy: 0.9178 - val_loss: 0.2844 - val_accuracy: 0.9200\n",
            "Epoch 7/20\n",
            "3750/3750 [==============================] - 10s 3ms/step - loss: 0.2862 - accuracy: 0.9185 - val_loss: 0.2866 - val_accuracy: 0.9182\n",
            "Epoch 8/20\n",
            "3750/3750 [==============================] - 10s 3ms/step - loss: 0.2830 - accuracy: 0.9193 - val_loss: 0.2830 - val_accuracy: 0.9175\n",
            "Epoch 9/20\n",
            "3750/3750 [==============================] - 10s 3ms/step - loss: 0.2804 - accuracy: 0.9208 - val_loss: 0.2776 - val_accuracy: 0.9211\n",
            "Epoch 10/20\n",
            "3750/3750 [==============================] - 10s 3ms/step - loss: 0.2788 - accuracy: 0.9214 - val_loss: 0.2890 - val_accuracy: 0.9206\n",
            "Epoch 11/20\n",
            "3750/3750 [==============================] - 10s 3ms/step - loss: 0.2766 - accuracy: 0.9214 - val_loss: 0.2910 - val_accuracy: 0.9170\n",
            "Epoch 12/20\n",
            "3750/3750 [==============================] - 11s 3ms/step - loss: 0.2750 - accuracy: 0.9223 - val_loss: 0.2738 - val_accuracy: 0.9243\n",
            "Epoch 13/20\n",
            "3750/3750 [==============================] - 12s 3ms/step - loss: 0.2734 - accuracy: 0.9240 - val_loss: 0.2844 - val_accuracy: 0.9200\n",
            "Epoch 14/20\n",
            "3750/3750 [==============================] - 11s 3ms/step - loss: 0.2718 - accuracy: 0.9236 - val_loss: 0.2821 - val_accuracy: 0.9208\n",
            "Epoch 15/20\n",
            "3750/3750 [==============================] - 10s 3ms/step - loss: 0.2704 - accuracy: 0.9240 - val_loss: 0.2741 - val_accuracy: 0.9213\n",
            "Epoch 16/20\n",
            "3750/3750 [==============================] - 11s 3ms/step - loss: 0.2699 - accuracy: 0.9244 - val_loss: 0.2879 - val_accuracy: 0.9178\n",
            "Epoch 17/20\n",
            "3750/3750 [==============================] - 10s 3ms/step - loss: 0.2678 - accuracy: 0.9251 - val_loss: 0.2711 - val_accuracy: 0.9232\n",
            "Epoch 18/20\n",
            "3750/3750 [==============================] - 10s 3ms/step - loss: 0.2673 - accuracy: 0.9253 - val_loss: 0.2716 - val_accuracy: 0.9245\n",
            "Epoch 19/20\n",
            "3750/3750 [==============================] - 10s 3ms/step - loss: 0.2661 - accuracy: 0.9259 - val_loss: 0.2766 - val_accuracy: 0.9213\n",
            "Epoch 20/20\n",
            "3750/3750 [==============================] - 10s 3ms/step - loss: 0.2654 - accuracy: 0.9255 - val_loss: 0.2756 - val_accuracy: 0.9224\n"
          ]
        }
      ]
    },
    {
      "cell_type": "code",
      "metadata": {
        "colab": {
          "base_uri": "https://localhost:8080/",
          "height": 466
        },
        "id": "8N-PpsB1Gm4h",
        "outputId": "fd76e540-076a-488e-e1d9-eed51cf5f480"
      },
      "source": [
        "plt.plot(history.history['accuracy'], label='Training')\n",
        "plt.plot(history.history['val_accuracy'], label='Validation')\n",
        "plt.ylim([.8, .95])\n",
        "plt.ylabel('Accuracy')\n",
        "plt.xlabel('Epoch')\n",
        "plt.legend()"
      ],
      "execution_count": null,
      "outputs": [
        {
          "output_type": "execute_result",
          "data": {
            "text/plain": [
              "<matplotlib.legend.Legend at 0x7f7e5a154970>"
            ]
          },
          "metadata": {},
          "execution_count": 13
        },
        {
          "output_type": "display_data",
          "data": {
            "text/plain": [
              "<Figure size 640x480 with 1 Axes>"
            ],
            "image/png": "[encoded data removed]"
          },
          "metadata": {}
        }
      ]
    },
    {
      "cell_type": "markdown",
      "metadata": {
        "id": "HkyCMsdtgJrW"
      },
      "source": [
        "## Getting Deeper  \n",
        "\n",
        "Additional `hidden layers` increase complexity and thus expressiveness of the network."
      ]
    },
    {
      "cell_type": "code",
      "metadata": {
        "id": "8L0RpGCv-c3e"
      },
      "source": [
        "hidden_layer = tf.keras.layers.Dense( \n",
        "    input_shape = (28*28,), \n",
        "    units=200,            # 200 units als intermediate-output\n",
        "    activation = 'relu',  # one of the most popular activation functions \n",
        "    name = 'hidden'\n",
        ") "
      ],
      "execution_count": null,
      "outputs": []
    },
    {
      "cell_type": "code",
      "metadata": {
        "id": "Q6jmSNym-cxC"
      },
      "source": [
        "# unser outputlayer wie oben\n",
        "out_layer = tf.keras.layers.Dense( \n",
        "    units=10,                      \n",
        "    activation='softmax',  \n",
        "    name= 'out'\n",
        ")"
      ],
      "execution_count": null,
      "outputs": []
    },
    {
      "cell_type": "code",
      "metadata": {
        "id": "eSx3lZlr-cpQ"
      },
      "source": [
        "model2 = tf.keras.models.Sequential()\n",
        "\n",
        "model2.add(hidden_layer)\n",
        "model2.add(out_layer)\n",
        "\n",
        "model2.compile(\n",
        "    loss = 'sparse_categorical_crossentropy',  # Klassifizierungsfehler\n",
        "    metrics = ['accuracy'],  # Anteil korrekt klassifizierter Samples des Validierungsdatensatzes\n",
        ")"
      ],
      "execution_count": null,
      "outputs": []
    },
    {
      "cell_type": "code",
      "metadata": {
        "id": "-GOOX3F3Et-t",
        "colab": {
          "base_uri": "https://localhost:8080/",
          "height": 312
        },
        "outputId": "172ce007-e08a-410a-ba9a-131d31ba08e5"
      },
      "source": [
        "tf.keras.utils.plot_model(model2, show_shapes=True)"
      ],
      "execution_count": null,
      "outputs": [
        {
          "output_type": "execute_result",
          "data": {
            "image/png": "[encoded data removed]",
            "text/plain": [
              "<IPython.core.display.Image object>"
            ]
          },
          "metadata": {},
          "execution_count": 17
        }
      ]
    },
    {
      "cell_type": "code",
      "metadata": {
        "id": "LuniAJBoMEbs",
        "colab": {
          "base_uri": "https://localhost:8080/"
        },
        "outputId": "621cc461-913e-4310-9fe9-10a0b4df9640"
      },
      "source": [
        "model2.summary()"
      ],
      "execution_count": null,
      "outputs": [
        {
          "output_type": "stream",
          "name": "stdout",
          "text": [
            "Model: \"sequential_1\"\n",
            "_________________________________________________________________\n",
            " Layer (type)                Output Shape              Param #   \n",
            "=================================================================\n",
            " hidden (Dense)              (None, 200)               157000    \n",
            "                                                                 \n",
            " out (Dense)                 (None, 10)                2010      \n",
            "                                                                 \n",
            "=================================================================\n",
            "Total params: 159,010\n",
            "Trainable params: 159,010\n",
            "Non-trainable params: 0\n",
            "_________________________________________________________________\n"
          ]
        }
      ]
    },
    {
      "cell_type": "code",
      "metadata": {
        "id": "2P0A9eM7FLs-",
        "colab": {
          "base_uri": "https://localhost:8080/"
        },
        "outputId": "44f011bd-ed6f-49fe-e6a2-c98bed3a4f90"
      },
      "source": [
        "history = model2.fit(\n",
        "    x = train_images_flat, \n",
        "    y = train_labels,\n",
        "    validation_data = (test_images_flat, test_labels),\n",
        "    epochs = 20\n",
        ")"
      ],
      "execution_count": null,
      "outputs": [
        {
          "output_type": "stream",
          "name": "stdout",
          "text": [
            "Epoch 1/20\n",
            "1875/1875 [==============================] - 7s 3ms/step - loss: 0.3183 - accuracy: 0.9021 - val_loss: 0.1668 - val_accuracy: 0.9501\n",
            "Epoch 2/20\n",
            "1875/1875 [==============================] - 5s 3ms/step - loss: 0.1584 - accuracy: 0.9528 - val_loss: 0.1443 - val_accuracy: 0.9622\n",
            "Epoch 3/20\n",
            "1875/1875 [==============================] - 6s 3ms/step - loss: 0.1255 - accuracy: 0.9643 - val_loss: 0.1273 - val_accuracy: 0.9654\n",
            "Epoch 4/20\n",
            "1875/1875 [==============================] - 5s 3ms/step - loss: 0.1084 - accuracy: 0.9692 - val_loss: 0.1570 - val_accuracy: 0.9586\n",
            "Epoch 5/20\n",
            "1875/1875 [==============================] - 6s 3ms/step - loss: 0.1029 - accuracy: 0.9709 - val_loss: 0.1488 - val_accuracy: 0.9636\n",
            "Epoch 6/20\n",
            "1875/1875 [==============================] - 5s 3ms/step - loss: 0.0910 - accuracy: 0.9756 - val_loss: 0.1247 - val_accuracy: 0.9691\n",
            "Epoch 7/20\n",
            "1875/1875 [==============================] - 5s 3ms/step - loss: 0.0873 - accuracy: 0.9764 - val_loss: 0.1265 - val_accuracy: 0.9721\n",
            "Epoch 8/20\n",
            "1875/1875 [==============================] - 6s 3ms/step - loss: 0.0808 - accuracy: 0.9796 - val_loss: 0.1565 - val_accuracy: 0.9681\n",
            "Epoch 9/20\n",
            "1875/1875 [==============================] - 5s 3ms/step - loss: 0.0749 - accuracy: 0.9805 - val_loss: 0.1459 - val_accuracy: 0.9709\n",
            "Epoch 10/20\n",
            "1875/1875 [==============================] - 6s 3ms/step - loss: 0.0700 - accuracy: 0.9812 - val_loss: 0.1326 - val_accuracy: 0.9735\n",
            "Epoch 11/20\n",
            "1875/1875 [==============================] - 5s 3ms/step - loss: 0.0671 - accuracy: 0.9823 - val_loss: 0.1473 - val_accuracy: 0.9699\n",
            "Epoch 12/20\n",
            "1875/1875 [==============================] - 6s 3ms/step - loss: 0.0619 - accuracy: 0.9845 - val_loss: 0.1438 - val_accuracy: 0.9717\n",
            "Epoch 13/20\n",
            "1875/1875 [==============================] - 5s 3ms/step - loss: 0.0605 - accuracy: 0.9845 - val_loss: 0.1573 - val_accuracy: 0.9718\n",
            "Epoch 14/20\n",
            "1875/1875 [==============================] - 6s 3ms/step - loss: 0.0554 - accuracy: 0.9861 - val_loss: 0.1523 - val_accuracy: 0.9730\n",
            "Epoch 15/20\n",
            "1875/1875 [==============================] - 5s 3ms/step - loss: 0.0531 - accuracy: 0.9861 - val_loss: 0.1589 - val_accuracy: 0.9732\n",
            "Epoch 16/20\n",
            "1875/1875 [==============================] - 5s 3ms/step - loss: 0.0504 - accuracy: 0.9870 - val_loss: 0.1588 - val_accuracy: 0.9736\n",
            "Epoch 17/20\n",
            "1875/1875 [==============================] - 6s 3ms/step - loss: 0.0450 - accuracy: 0.9884 - val_loss: 0.1718 - val_accuracy: 0.9707\n",
            "Epoch 18/20\n",
            "1875/1875 [==============================] - 5s 3ms/step - loss: 0.0464 - accuracy: 0.9883 - val_loss: 0.2146 - val_accuracy: 0.9686\n",
            "Epoch 19/20\n",
            "1875/1875 [==============================] - 6s 3ms/step - loss: 0.0410 - accuracy: 0.9891 - val_loss: 0.1695 - val_accuracy: 0.9746\n",
            "Epoch 20/20\n",
            "1875/1875 [==============================] - 5s 3ms/step - loss: 0.0416 - accuracy: 0.9895 - val_loss: 0.1685 - val_accuracy: 0.9755\n"
          ]
        }
      ]
    },
    {
      "cell_type": "markdown",
      "metadata": {
        "id": "lxYWbfMrozxz"
      },
      "source": [
        "\n",
        "### Experiments Suggestions\n",
        "Observe the train and validation error \n",
        "- in/decrease the number of neurons in the `hidden layer` (getting wider)\n",
        "- with a second `hidden layer 2` (getting deeper) \n"
      ]
    },
    {
      "cell_type": "code",
      "source": [],
      "metadata": {
        "id": "rBTrHCP3Mzfh"
      },
      "execution_count": null,
      "outputs": []
    },
    {
      "cell_type": "markdown",
      "metadata": {
        "id": "Lha1ZoUkuRKz"
      },
      "source": [
        "## Convolutional Neural Networks (CNN)\n"
      ]
    },
    {
      "cell_type": "markdown",
      "metadata": {
        "id": "6BhjT8aLDD6z"
      },
      "source": [
        "![Förderprogramm LINK der Stiftung Niedersachsen - Aufgabensammlung 1](https://raw.githubusercontent.com/vdumoulin/conv_arithmetic/master/gif/padding_strides.gif) https://github.com/vdumoulin/conv_arithmetic"
      ]
    },
    {
      "cell_type": "markdown",
      "metadata": {
        "id": "BOKrT5XbDscs"
      },
      "source": [
        "Convolutional Neural Networks reflect the inherent 2D-structure of images.\n",
        "\n",
        "Every convolution filter \"looks\" for a specific local feature in across the image "
      ]
    },
    {
      "cell_type": "code",
      "metadata": {
        "id": "aagPdunD3Dp0",
        "colab": {
          "base_uri": "https://localhost:8080/"
        },
        "outputId": "9cccef6e-6c0e-4423-d5de-e666630d3b9d"
      },
      "source": [
        "input_layer = tf.keras.layers.Conv2D(\n",
        "    input_shape = (28, 28, 1),    # our input shape (1 colour channel)\n",
        "    filters = 24,                 # how many filter/feature we want to learn\n",
        "    kernel_size = (5,5),          # filtersize\n",
        "    activation= 'relu',\n",
        "    strides=2\n",
        ")\n",
        "\n",
        "hidden_convolution = tf.keras.layers.Conv2D(\n",
        "    filters = 48,                  \n",
        "    kernel_size = (5,5),\n",
        "    activation= 'relu',\n",
        "    strides=2\n",
        ")\n",
        "\n",
        "flatten_layer = tf.keras.layers.Flatten()\n",
        "\n",
        "intermediate_layer = tf.keras.layers.Dense( \n",
        "    units = 256,\n",
        "    activation = 'relu',\n",
        ")\n",
        "\n",
        "out_layer = tf.keras.layers.Dense( \n",
        "    units=10,                     \n",
        "    activation='softmax',           \n",
        "    name = 'out'\n",
        ")\n",
        "\n",
        "\n",
        "model3 = tf.keras.models.Sequential()\n",
        "model3.add(input_layer)\n",
        "model3.add(hidden_convolution)\n",
        "model3.add(intermediate_layer)\n",
        "model3.add(flatten_layer)\n",
        "model3.add(out_layer)\n",
        "\n",
        "model3.compile(\n",
        "    loss = 'sparse_categorical_crossentropy',\n",
        "    # a more sophisticated optimizer than SGD\n",
        "    optimizer = tf.keras.optimizers.Adam(learning_rate=1E-4), \n",
        "    metrics = ['accuracy'],                    \n",
        ")\n",
        "\n",
        "tf.keras.utils.plot_model(model3, show_shapes=True)\n",
        "model3.summary()"
      ],
      "execution_count": null,
      "outputs": [
        {
          "output_type": "stream",
          "name": "stdout",
          "text": [
            "Model: \"sequential_2\"\n",
            "_________________________________________________________________\n",
            " Layer (type)                Output Shape              Param #   \n",
            "=================================================================\n",
            " conv2d (Conv2D)             (None, 12, 12, 24)        624       \n",
            "                                                                 \n",
            " conv2d_1 (Conv2D)           (None, 4, 4, 48)          28848     \n",
            "                                                                 \n",
            " dense (Dense)               (None, 4, 4, 256)         12544     \n",
            "                                                                 \n",
            " flatten (Flatten)           (None, 4096)              0         \n",
            "                                                                 \n",
            " out (Dense)                 (None, 10)                40970     \n",
            "                                                                 \n",
            "=================================================================\n",
            "Total params: 82,986\n",
            "Trainable params: 82,986\n",
            "Non-trainable params: 0\n",
            "_________________________________________________________________\n"
          ]
        }
      ]
    },
    {
      "cell_type": "markdown",
      "metadata": {
        "id": "CxfhtUK4Ofsm"
      },
      "source": [
        "A `Conv2D`-layer works on 2D data with multiple channels. In our case (MNIST) we have only one color channel (grey) which we need to explicitly add in the data \n"
      ]
    },
    {
      "cell_type": "code",
      "metadata": {
        "id": "nAczXSNUO7gT"
      },
      "source": [
        "train_images_ch = train_images.reshape(-1, 28, 28, 1)\n",
        "test_images_ch = test_images.reshape(-1, 28, 28, 1)"
      ],
      "execution_count": null,
      "outputs": []
    },
    {
      "cell_type": "markdown",
      "metadata": {
        "id": "wySN86igB3nm"
      },
      "source": [
        "now we can train the model\n",
        "\n"
      ]
    },
    {
      "cell_type": "code",
      "metadata": {
        "id": "wQ9Cpe-W3Toa",
        "colab": {
          "base_uri": "https://localhost:8080/"
        },
        "outputId": "69a3f56f-5266-45ee-9732-0b5faf036666"
      },
      "source": [
        "history = model3.fit(\n",
        "    x = train_images_ch, \n",
        "    y = train_labels,\n",
        "    validation_data = (test_images_ch, test_labels),\n",
        "    epochs = 20\n",
        ")"
      ],
      "execution_count": null,
      "outputs": [
        {
          "output_type": "stream",
          "name": "stdout",
          "text": [
            "Epoch 1/20\n",
            "1875/1875 [==============================] - 14s 4ms/step - loss: 0.4180 - accuracy: 0.8858 - val_loss: 0.1471 - val_accuracy: 0.9564\n",
            "Epoch 2/20\n",
            "1875/1875 [==============================] - 7s 4ms/step - loss: 0.1215 - accuracy: 0.9644 - val_loss: 0.0781 - val_accuracy: 0.9754\n",
            "Epoch 3/20\n",
            "1875/1875 [==============================] - 8s 4ms/step - loss: 0.0809 - accuracy: 0.9761 - val_loss: 0.0592 - val_accuracy: 0.9815\n",
            "Epoch 4/20\n",
            "1875/1875 [==============================] - 7s 4ms/step - loss: 0.0636 - accuracy: 0.9812 - val_loss: 0.0483 - val_accuracy: 0.9855\n",
            "Epoch 5/20\n",
            "1875/1875 [==============================] - 8s 4ms/step - loss: 0.0533 - accuracy: 0.9838 - val_loss: 0.0444 - val_accuracy: 0.9862\n",
            "Epoch 6/20\n",
            "1875/1875 [==============================] - 7s 4ms/step - loss: 0.0459 - accuracy: 0.9862 - val_loss: 0.0417 - val_accuracy: 0.9859\n",
            "Epoch 7/20\n",
            "1875/1875 [==============================] - 7s 4ms/step - loss: 0.0412 - accuracy: 0.9878 - val_loss: 0.0362 - val_accuracy: 0.9883\n",
            "Epoch 8/20\n",
            "1875/1875 [==============================] - 8s 4ms/step - loss: 0.0360 - accuracy: 0.9891 - val_loss: 0.0379 - val_accuracy: 0.9879\n",
            "Epoch 9/20\n",
            "1875/1875 [==============================] - 8s 4ms/step - loss: 0.0324 - accuracy: 0.9901 - val_loss: 0.0339 - val_accuracy: 0.9886\n",
            "Epoch 10/20\n",
            "1875/1875 [==============================] - 8s 4ms/step - loss: 0.0294 - accuracy: 0.9905 - val_loss: 0.0319 - val_accuracy: 0.9890\n",
            "Epoch 11/20\n",
            "1875/1875 [==============================] - 8s 4ms/step - loss: 0.0264 - accuracy: 0.9922 - val_loss: 0.0355 - val_accuracy: 0.9880\n",
            "Epoch 12/20\n",
            "1875/1875 [==============================] - 8s 4ms/step - loss: 0.0239 - accuracy: 0.9928 - val_loss: 0.0341 - val_accuracy: 0.9886\n",
            "Epoch 13/20\n",
            "1875/1875 [==============================] - 8s 4ms/step - loss: 0.0217 - accuracy: 0.9936 - val_loss: 0.0330 - val_accuracy: 0.9878\n",
            "Epoch 14/20\n",
            "1875/1875 [==============================] - 8s 4ms/step - loss: 0.0190 - accuracy: 0.9943 - val_loss: 0.0318 - val_accuracy: 0.9898\n",
            "Epoch 15/20\n",
            "1875/1875 [==============================] - 8s 4ms/step - loss: 0.0177 - accuracy: 0.9944 - val_loss: 0.0329 - val_accuracy: 0.9903\n",
            "Epoch 16/20\n",
            "1875/1875 [==============================] - 8s 4ms/step - loss: 0.0159 - accuracy: 0.9950 - val_loss: 0.0317 - val_accuracy: 0.9898\n",
            "Epoch 17/20\n",
            "1875/1875 [==============================] - 8s 4ms/step - loss: 0.0143 - accuracy: 0.9956 - val_loss: 0.0293 - val_accuracy: 0.9910\n",
            "Epoch 18/20\n",
            "1875/1875 [==============================] - 7s 4ms/step - loss: 0.0128 - accuracy: 0.9962 - val_loss: 0.0325 - val_accuracy: 0.9888\n",
            "Epoch 19/20\n",
            "1875/1875 [==============================] - 7s 4ms/step - loss: 0.0112 - accuracy: 0.9968 - val_loss: 0.0349 - val_accuracy: 0.9890\n",
            "Epoch 20/20\n",
            "1875/1875 [==============================] - 7s 4ms/step - loss: 0.0102 - accuracy: 0.9970 - val_loss: 0.0346 - val_accuracy: 0.9885\n"
          ]
        }
      ]
    },
    {
      "cell_type": "markdown",
      "metadata": {
        "id": "NAT4cYavbXbY"
      },
      "source": [
        "### Data Augmentation"
      ]
    },
    {
      "cell_type": "markdown",
      "metadata": {
        "id": "7KXpqbBjgjnV"
      },
      "source": [
        "Techniques to close the gap between train and validation error are called  `regularization`.\n",
        "\n",
        "Increasing the available train data is the most straight-forward way, but it is often hard to obtain this data. One simple way to increase the available data is to create slightly modified versions of every train image (augmentation). "
      ]
    },
    {
      "cell_type": "code",
      "metadata": {
        "id": "EYiSTHwhTEGP"
      },
      "source": [
        "from tensorflow.keras import layers"
      ],
      "execution_count": null,
      "outputs": []
    },
    {
      "cell_type": "code",
      "metadata": {
        "id": "BP5Udsg-TETV"
      },
      "source": [
        "data_augmentation = tf.keras.Sequential([\n",
        "  layers.RandomRotation(0.05),\n",
        "  layers.RandomTranslation(height_factor=0.02, width_factor=0.02),\n",
        "  layers.RandomZoom(height_factor=0.02, width_factor=0.02),\n",
        "])"
      ],
      "execution_count": null,
      "outputs": []
    },
    {
      "cell_type": "code",
      "metadata": {
        "id": "BrOZ491rTEXh"
      },
      "source": [
        "train_dataset = tf.data.Dataset.from_tensor_slices((train_images_ch, train_labels))\n",
        "train_dataset = train_dataset.shuffle(1024).batch(64)\n",
        "train_dataset = train_dataset.map(lambda x, y: (data_augmentation(x, training=True), y), num_parallel_calls=tf.data.experimental.AUTOTUNE)"
      ],
      "execution_count": null,
      "outputs": []
    },
    {
      "cell_type": "code",
      "metadata": {
        "colab": {
          "base_uri": "https://localhost:8080/"
        },
        "id": "gtIttZt-TEcC",
        "outputId": "67969eea-f8de-444a-f709-b05a0c869c11"
      },
      "source": [
        "model3.fit(\n",
        "    train_dataset,\n",
        "    validation_data = (test_images_ch, test_labels),\n",
        "    epochs = 20 \n",
        ")"
      ],
      "execution_count": null,
      "outputs": [
        {
          "output_type": "stream",
          "name": "stdout",
          "text": [
            "Epoch 1/20\n",
            "938/938 [==============================] - 20s 21ms/step - loss: 0.0387 - accuracy: 0.9877 - val_loss: 0.0327 - val_accuracy: 0.9897\n",
            "Epoch 2/20\n",
            "938/938 [==============================] - 9s 9ms/step - loss: 0.0376 - accuracy: 0.9881 - val_loss: 0.0338 - val_accuracy: 0.9883\n",
            "Epoch 3/20\n",
            "938/938 [==============================] - 8s 9ms/step - loss: 0.0361 - accuracy: 0.9886 - val_loss: 0.0298 - val_accuracy: 0.9896\n",
            "Epoch 4/20\n",
            "938/938 [==============================] - 9s 9ms/step - loss: 0.0364 - accuracy: 0.9883 - val_loss: 0.0302 - val_accuracy: 0.9911\n",
            "Epoch 5/20\n",
            "938/938 [==============================] - 9s 9ms/step - loss: 0.0327 - accuracy: 0.9894 - val_loss: 0.0301 - val_accuracy: 0.9898\n",
            "Epoch 6/20\n",
            "938/938 [==============================] - 8s 9ms/step - loss: 0.0324 - accuracy: 0.9898 - val_loss: 0.0292 - val_accuracy: 0.9910\n",
            "Epoch 7/20\n",
            "938/938 [==============================] - 7s 8ms/step - loss: 0.0312 - accuracy: 0.9898 - val_loss: 0.0291 - val_accuracy: 0.9903\n",
            "Epoch 8/20\n",
            "938/938 [==============================] - 8s 9ms/step - loss: 0.0302 - accuracy: 0.9903 - val_loss: 0.0274 - val_accuracy: 0.9910\n",
            "Epoch 9/20\n",
            "938/938 [==============================] - 8s 8ms/step - loss: 0.0290 - accuracy: 0.9905 - val_loss: 0.0311 - val_accuracy: 0.9895\n",
            "Epoch 10/20\n",
            "938/938 [==============================] - 9s 10ms/step - loss: 0.0290 - accuracy: 0.9913 - val_loss: 0.0315 - val_accuracy: 0.9905\n",
            "Epoch 11/20\n",
            "938/938 [==============================] - 10s 11ms/step - loss: 0.0286 - accuracy: 0.9910 - val_loss: 0.0311 - val_accuracy: 0.9897\n",
            "Epoch 12/20\n",
            "938/938 [==============================] - 8s 9ms/step - loss: 0.0274 - accuracy: 0.9916 - val_loss: 0.0327 - val_accuracy: 0.9899\n",
            "Epoch 13/20\n",
            "938/938 [==============================] - 9s 10ms/step - loss: 0.0253 - accuracy: 0.9923 - val_loss: 0.0323 - val_accuracy: 0.9895\n",
            "Epoch 14/20\n",
            "938/938 [==============================] - 9s 9ms/step - loss: 0.0264 - accuracy: 0.9915 - val_loss: 0.0281 - val_accuracy: 0.9904\n",
            "Epoch 15/20\n",
            "938/938 [==============================] - 9s 10ms/step - loss: 0.0254 - accuracy: 0.9917 - val_loss: 0.0319 - val_accuracy: 0.9900\n",
            "Epoch 16/20\n",
            "938/938 [==============================] - 9s 10ms/step - loss: 0.0231 - accuracy: 0.9929 - val_loss: 0.0305 - val_accuracy: 0.9900\n",
            "Epoch 17/20\n",
            "938/938 [==============================] - 8s 8ms/step - loss: 0.0233 - accuracy: 0.9928 - val_loss: 0.0307 - val_accuracy: 0.9900\n",
            "Epoch 18/20\n",
            "938/938 [==============================] - 8s 8ms/step - loss: 0.0230 - accuracy: 0.9927 - val_loss: 0.0307 - val_accuracy: 0.9901\n",
            "Epoch 19/20\n",
            "938/938 [==============================] - 9s 10ms/step - loss: 0.0228 - accuracy: 0.9928 - val_loss: 0.0298 - val_accuracy: 0.9906\n",
            "Epoch 20/20\n",
            "938/938 [==============================] - 9s 10ms/step - loss: 0.0224 - accuracy: 0.9929 - val_loss: 0.0315 - val_accuracy: 0.9891\n"
          ]
        },
        {
          "output_type": "execute_result",
          "data": {
            "text/plain": [
              "<keras.callbacks.History at 0x7f7d9cc3a500>"
            ]
          },
          "metadata": {},
          "execution_count": 51
        }
      ]
    },
    {
      "cell_type": "markdown",
      "metadata": {
        "id": "xjfCXlyIEdYg"
      },
      "source": [
        "### Decreasing the learning rate at the end of training"
      ]
    },
    {
      "cell_type": "code",
      "metadata": {
        "colab": {
          "base_uri": "https://localhost:8080/"
        },
        "id": "AYakH1i1hufA",
        "outputId": "fc945098-7394-49a7-be3d-ca001913b764"
      },
      "source": [
        "model3.compile(\n",
        "    loss = 'sparse_categorical_crossentropy',\n",
        "    # a more sophisticated optimizer than SGD\n",
        "    optimizer = tf.keras.optimizers.Adam(learning_rate=1E-5), \n",
        "    metrics = ['accuracy'],                    \n",
        ")\n",
        "\n",
        "model3.fit(\n",
        "    train_dataset,\n",
        "    validation_data = (test_images, test_labels),\n",
        "    epochs = 20 \n",
        ")"
      ],
      "execution_count": null,
      "outputs": [
        {
          "output_type": "stream",
          "name": "stdout",
          "text": [
            "Epoch 1/20\n",
            "938/938 [==============================] - 10s 9ms/step - loss: 0.0186 - accuracy: 0.9940 - val_loss: 0.0257 - val_accuracy: 0.9915\n",
            "Epoch 2/20\n",
            "938/938 [==============================] - 9s 9ms/step - loss: 0.0180 - accuracy: 0.9942 - val_loss: 0.0259 - val_accuracy: 0.9920\n",
            "Epoch 3/20\n",
            "938/938 [==============================] - 8s 9ms/step - loss: 0.0182 - accuracy: 0.9943 - val_loss: 0.0264 - val_accuracy: 0.9917\n",
            "Epoch 4/20\n",
            "938/938 [==============================] - 7s 8ms/step - loss: 0.0171 - accuracy: 0.9947 - val_loss: 0.0261 - val_accuracy: 0.9915\n",
            "Epoch 5/20\n",
            "938/938 [==============================] - 9s 9ms/step - loss: 0.0180 - accuracy: 0.9945 - val_loss: 0.0254 - val_accuracy: 0.9918\n",
            "Epoch 6/20\n",
            "938/938 [==============================] - 9s 10ms/step - loss: 0.0180 - accuracy: 0.9944 - val_loss: 0.0259 - val_accuracy: 0.9919\n",
            "Epoch 7/20\n",
            "938/938 [==============================] - 7s 8ms/step - loss: 0.0163 - accuracy: 0.9951 - val_loss: 0.0260 - val_accuracy: 0.9920\n",
            "Epoch 8/20\n",
            "938/938 [==============================] - 8s 9ms/step - loss: 0.0177 - accuracy: 0.9947 - val_loss: 0.0271 - val_accuracy: 0.9916\n",
            "Epoch 9/20\n",
            "938/938 [==============================] - 9s 10ms/step - loss: 0.0168 - accuracy: 0.9949 - val_loss: 0.0263 - val_accuracy: 0.9918\n",
            "Epoch 10/20\n",
            "938/938 [==============================] - 9s 9ms/step - loss: 0.0176 - accuracy: 0.9946 - val_loss: 0.0253 - val_accuracy: 0.9922\n",
            "Epoch 11/20\n",
            "938/938 [==============================] - 9s 10ms/step - loss: 0.0160 - accuracy: 0.9952 - val_loss: 0.0259 - val_accuracy: 0.9921\n",
            "Epoch 12/20\n",
            "938/938 [==============================] - 8s 8ms/step - loss: 0.0172 - accuracy: 0.9949 - val_loss: 0.0265 - val_accuracy: 0.9920\n",
            "Epoch 13/20\n",
            "938/938 [==============================] - 9s 9ms/step - loss: 0.0167 - accuracy: 0.9948 - val_loss: 0.0259 - val_accuracy: 0.9921\n",
            "Epoch 14/20\n",
            "938/938 [==============================] - 9s 9ms/step - loss: 0.0168 - accuracy: 0.9951 - val_loss: 0.0259 - val_accuracy: 0.9919\n",
            "Epoch 15/20\n",
            "938/938 [==============================] - 9s 9ms/step - loss: 0.0158 - accuracy: 0.9952 - val_loss: 0.0264 - val_accuracy: 0.9917\n",
            "Epoch 16/20\n",
            "938/938 [==============================] - 8s 8ms/step - loss: 0.0172 - accuracy: 0.9942 - val_loss: 0.0259 - val_accuracy: 0.9921\n",
            "Epoch 17/20\n",
            "938/938 [==============================] - 8s 8ms/step - loss: 0.0164 - accuracy: 0.9949 - val_loss: 0.0266 - val_accuracy: 0.9916\n",
            "Epoch 18/20\n",
            "938/938 [==============================] - 9s 9ms/step - loss: 0.0158 - accuracy: 0.9950 - val_loss: 0.0270 - val_accuracy: 0.9915\n",
            "Epoch 19/20\n",
            "938/938 [==============================] - 9s 9ms/step - loss: 0.0162 - accuracy: 0.9950 - val_loss: 0.0259 - val_accuracy: 0.9917\n",
            "Epoch 20/20\n",
            "938/938 [==============================] - 9s 9ms/step - loss: 0.0159 - accuracy: 0.9949 - val_loss: 0.0267 - val_accuracy: 0.9913\n"
          ]
        },
        {
          "output_type": "execute_result",
          "data": {
            "text/plain": [
              "<keras.callbacks.History at 0x7f7db93b2530>"
            ]
          },
          "metadata": {},
          "execution_count": 52
        }
      ]
    },
    {
      "cell_type": "markdown",
      "source": [
        "\n",
        "### Experiments Suggestions\n",
        "Observe the train and validation error. Also take a look at the number of trainable Paramters \n",
        "- add a second convolutional `hidden layer 2` (getting deeper) and change kernel_size to 3 \n"
      ],
      "metadata": {
        "id": "5JO15cWcxYuy"
      }
    }
  ]
}