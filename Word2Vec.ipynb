{
  "nbformat": 4,
  "nbformat_minor": 0,
  "metadata": {
    "colab": {
      "provenance": [],
      "include_colab_link": true
    },
    "kernelspec": {
      "name": "python3",
      "display_name": "Python 3"
    },
    "gpuClass": "standard"
  },
  "cells": [
    {
      "cell_type": "markdown",
      "metadata": {
        "id": "view-in-github",
        "colab_type": "text"
      },
      "source": [
        "<a href=\"https://colab.research.google.com/github/jansoe/AICA/blob/main/Word2Vec.ipynb\" target=\"_parent\"><img src=\"https://colab.research.google.com/assets/colab-badge.svg\" alt=\"Open In Colab\"/></a>"
      ]
    },
    {
      "cell_type": "markdown",
      "metadata": {
        "id": "RX02S6Aq8OxF"
      },
      "source": [
        "# Wortvektoren"
      ]
    },
    {
      "cell_type": "code",
      "metadata": {
        "id": "c6sSUrDuDXkX",
        "cellView": "form"
      },
      "source": [
        "#@title \n",
        "#@markdown Importieren von Extrafunktionalität (insbesondere Gensim)\n",
        "\n",
        "import matplotlib.pyplot as plt\n",
        "import numpy as np\n",
        "import nltk\n",
        "import gensim\n",
        "from pprint import pprint\n",
        "from sklearn.metrics.pairwise import cosine_similarity\n",
        "\n",
        "#Die Bibliothek `gensim` ist etwas veraltet und gibt eine Menge Warnungen aus. \n",
        "# Wir können diese aber erstmal getrost ignorieren und deren Ausgabe wie folgt verhindern.\n",
        "import warnings\n",
        "warnings.filterwarnings('ignore')"
      ],
      "execution_count": null,
      "outputs": []
    },
    {
      "cell_type": "markdown",
      "metadata": {
        "id": "UWH2te0GpahO"
      },
      "source": [
        "Mit dem `gensim.downloader` können wir vortrainierte Wortvektoren herunterladen."
      ]
    },
    {
      "cell_type": "code",
      "metadata": {
        "id": "0KspB4YAtT0t",
        "colab": {
          "base_uri": "https://localhost:8080/"
        },
        "outputId": "24eb5487-58dc-43ef-993a-0c92e5d379c1"
      },
      "source": [
        "import gensim.downloader as api\n",
        "api.info()['models'].keys()"
      ],
      "execution_count": null,
      "outputs": [
        {
          "output_type": "execute_result",
          "data": {
            "text/plain": [
              "dict_keys(['fasttext-wiki-news-subwords-300', 'conceptnet-numberbatch-17-06-300', 'word2vec-ruscorpora-300', 'word2vec-google-news-300', 'glove-wiki-gigaword-50', 'glove-wiki-gigaword-100', 'glove-wiki-gigaword-200', 'glove-wiki-gigaword-300', 'glove-twitter-25', 'glove-twitter-50', 'glove-twitter-100', 'glove-twitter-200', '__testing_word2vec-matrix-synopsis'])"
            ]
          },
          "metadata": {},
          "execution_count": 3
        }
      ]
    },
    {
      "cell_type": "code",
      "metadata": {
        "id": "ddSifIOVXLGS",
        "colab": {
          "base_uri": "https://localhost:8080/"
        },
        "outputId": "58e921ee-3fd3-4733-944b-bc75ddcd5498"
      },
      "source": [
        "model = api.load('glove-wiki-gigaword-300')"
      ],
      "execution_count": null,
      "outputs": [
        {
          "output_type": "stream",
          "name": "stdout",
          "text": [
            "[=================================================-] 99.9% 375.9/376.1MB downloaded\n"
          ]
        }
      ]
    },
    {
      "cell_type": "markdown",
      "source": [
        "### Visualisiern von Wortvektoren"
      ],
      "metadata": {
        "id": "1QuJ-8tnLBBD"
      }
    },
    {
      "cell_type": "code",
      "source": [
        "#@title\n",
        "#@markdown Funktion zum Visualisieren\n",
        "\n",
        "def plot_vector(v):\n",
        "    plt.subplots(figsize=(15,1))\n",
        "    plt.imshow(v.reshape(1,-1), aspect='auto', cmap=plt.cm.Spectral, vmin=-.3, vmax=.3)\n",
        "    _ = plt.colorbar()\n",
        "    plt.yticks([])\n",
        "    plt.xlabel('Dimension')"
      ],
      "metadata": {
        "id": "erzLauumL1DM",
        "cellView": "form"
      },
      "execution_count": null,
      "outputs": []
    },
    {
      "cell_type": "code",
      "metadata": {
        "id": "KU7-j75qtt9C",
        "colab": {
          "base_uri": "https://localhost:8080/",
          "height": 157
        },
        "outputId": "dfa323a0-ca0c-4ea8-a5b4-d55cca2f9c9b"
      },
      "source": [
        "word_vector1 = model.get_vector('noodles', norm=True)\n",
        "plot_vector(word_vector1)"
      ],
      "execution_count": null,
      "outputs": [
        {
          "output_type": "display_data",
          "data": {
            "text/plain": [
              "<Figure size 1500x100 with 2 Axes>"
            ],
            "image/png": "[encoded data removed]"
          },
          "metadata": {}
        }
      ]
    },
    {
      "cell_type": "markdown",
      "source": [
        "## Wortähnlichkeiten"
      ],
      "metadata": {
        "id": "_WelWGM61RBz"
      }
    },
    {
      "cell_type": "markdown",
      "source": [
        "Wir können natürlich auch Wortvektoren vergleichen"
      ],
      "metadata": {
        "id": "y66jPGvEqaas"
      }
    },
    {
      "cell_type": "code",
      "source": [
        "word1 = 'pasta'\n",
        "word2 = 'noodles'\n",
        "\n",
        "word_vector1 = model.get_vector(word1, norm=True)\n",
        "plot_vector(word_vector1)\n",
        "plt.ylabel(word1)\n",
        "\n",
        "word_vector2 = model.get_vector(word2, norm=True)\n",
        "plot_vector(word_vector2)\n",
        "plt.ylabel(word2)\n",
        "\n",
        "difference = word_vector1 - word_vector2 \n",
        "plot_vector(difference)\n",
        "plt.ylabel(f'{word1}-{word2}')"
      ],
      "metadata": {
        "colab": {
          "base_uri": "https://localhost:8080/",
          "height": 454
        },
        "id": "YF_f8YZWWAor",
        "outputId": "3eb0948a-2ab5-401f-b00e-3b2e7231e83c"
      },
      "execution_count": null,
      "outputs": [
        {
          "output_type": "execute_result",
          "data": {
            "text/plain": [
              "Text(0, 0.5, 'pasta-noodles')"
            ]
          },
          "metadata": {},
          "execution_count": 48
        },
        {
          "output_type": "display_data",
          "data": {
            "text/plain": [
              "<Figure size 1500x100 with 2 Axes>"
            ],
            "image/png": "[encoded data removed]"
          },
          "metadata": {}
        },
        {
          "output_type": "display_data",
          "data": {
            "text/plain": [
              "<Figure size 1500x100 with 2 Axes>"
            ],
            "image/png": "[encoded data removed]"
          },
          "metadata": {}
        },
        {
          "output_type": "display_data",
          "data": {
            "text/plain": [
              "<Figure size 1500x100 with 2 Axes>"
            ],
            "image/png": "[encoded data removed]"
          },
          "metadata": {}
        }
      ]
    },
    {
      "cell_type": "markdown",
      "source": [
        "Die Ähnlichkeit von 2 Vekoren können wir nicht nur über ihre Differenz sondern auch über den Winkel dazwischen bestimmen:"
      ],
      "metadata": {
        "id": "WKkgZY56sFrx"
      }
    },
    {
      "cell_type": "code",
      "source": [
        "cosine_similarity(\n",
        "    word_vector1.reshape(1, -1), \n",
        "    word_vector2.reshape(1, -1)\n",
        ")"
      ],
      "metadata": {
        "colab": {
          "base_uri": "https://localhost:8080/"
        },
        "id": "FKZd0wk4XLmR",
        "outputId": "bbbbfd38-8113-4477-d7a2-5620379da011"
      },
      "execution_count": null,
      "outputs": [
        {
          "output_type": "execute_result",
          "data": {
            "text/plain": [
              "array([[0.63435376]], dtype=float32)"
            ]
          },
          "metadata": {},
          "execution_count": 49
        }
      ]
    },
    {
      "cell_type": "markdown",
      "metadata": {
        "id": "E_uQgFLEZaJ1"
      },
      "source": [
        "Wir können somit auch  diejenigen Wörter aus dem Korpus heraussuchen, die im latenten Raum am nahesten liegen und somit eine verwandte Bedeutung aufweisen:"
      ]
    },
    {
      "cell_type": "code",
      "source": [
        "model.most_similar('noodles', topn=5)"
      ],
      "metadata": {
        "colab": {
          "base_uri": "https://localhost:8080/"
        },
        "id": "dhvC6GotVUb8",
        "outputId": "b9ff9c41-68e5-4670-c054-1ef93cfcd758"
      },
      "execution_count": null,
      "outputs": [
        {
          "output_type": "execute_result",
          "data": {
            "text/plain": [
              "[('noodle', 0.6829882264137268),\n",
              " ('pasta', 0.634353756904602),\n",
              " ('vermicelli', 0.6315168738365173),\n",
              " ('tofu', 0.6053614616394043),\n",
              " ('cooked', 0.6040924787521362)]"
            ]
          },
          "metadata": {},
          "execution_count": 50
        }
      ]
    },
    {
      "cell_type": "code",
      "metadata": {
        "id": "7ZxJkZdzD5PB",
        "colab": {
          "base_uri": "https://localhost:8080/"
        },
        "outputId": "b14d2dbd-5ca2-492f-d5fe-26bbbb8968f3"
      },
      "source": [
        "model.most_similar('shoe', topn=5)"
      ],
      "execution_count": null,
      "outputs": [
        {
          "output_type": "execute_result",
          "data": {
            "text/plain": [
              "[('shoes', 0.7242045402526855),\n",
              " ('footwear', 0.5965994000434875),\n",
              " ('sneaker', 0.5847949981689453),\n",
              " ('sneakers', 0.5435681343078613),\n",
              " ('clothing', 0.5319083333015442)]"
            ]
          },
          "metadata": {},
          "execution_count": 51
        }
      ]
    },
    {
      "cell_type": "markdown",
      "metadata": {
        "id": "wVWQITrgpOLF"
      },
      "source": [
        "### Analogien im Nachbarschaftsraum\n",
        "\n",
        "Dank der Vektorrepräsentation eines Word2Vec-Modells lässt sich auch leicht nach analogen Verwandtschaftsbeziehungen suchen. Z.B. können wir folgende Aufgabe stellen:\n",
        "\n",
        "`berlin` verhält sich zu `germany` wie `???` zu `italy`\n",
        "\n",
        "Die besten Kandidaten für die Lösung dieser Aufgabe können wir heraussuchen, indem wir uns im Vektorraum zu einem entsprechenden Punkt bewegen (`berlin - germany + italy`) und dort die nahesten Begriffe identifizieren: "
      ]
    },
    {
      "cell_type": "code",
      "metadata": {
        "id": "XWkCHwbX6ElZ",
        "colab": {
          "base_uri": "https://localhost:8080/"
        },
        "outputId": "bc5360e9-da29-472d-cd2a-a10d6cf75673"
      },
      "source": [
        "model.most_similar(positive=['berlin', 'italy'], negative=['germany'], topn=1)"
      ],
      "execution_count": null,
      "outputs": [
        {
          "output_type": "execute_result",
          "data": {
            "text/plain": [
              "[('rome', 0.7019403576850891)]"
            ]
          },
          "metadata": {},
          "execution_count": 52
        }
      ]
    },
    {
      "cell_type": "code",
      "metadata": {
        "id": "5MpCWK-e0NE_",
        "colab": {
          "base_uri": "https://localhost:8080/"
        },
        "outputId": "c4a0bc4e-b74d-402d-df49-b5cbc1f30e69"
      },
      "source": [
        "model.most_similar(positive=['munich', 'italy'], negative=['germany'], topn=1)"
      ],
      "execution_count": null,
      "outputs": [
        {
          "output_type": "execute_result",
          "data": {
            "text/plain": [
              "[('milan', 0.6967077255249023)]"
            ]
          },
          "metadata": {},
          "execution_count": 53
        }
      ]
    },
    {
      "cell_type": "code",
      "metadata": {
        "id": "vGm2nzKOu9l6",
        "colab": {
          "base_uri": "https://localhost:8080/"
        },
        "outputId": "f52eaf2d-860b-42bf-e02f-27ee4fba977f"
      },
      "source": [
        "model.most_similar(positive=['beer', 'italy'], negative=['germany'], topn=1)"
      ],
      "execution_count": null,
      "outputs": [
        {
          "output_type": "execute_result",
          "data": {
            "text/plain": [
              "[('wine', 0.5321523547172546)]"
            ]
          },
          "metadata": {},
          "execution_count": 54
        }
      ]
    },
    {
      "cell_type": "code",
      "metadata": {
        "id": "-OSz3WiA1RTk",
        "colab": {
          "base_uri": "https://localhost:8080/"
        },
        "outputId": "ffd16c18-632d-4873-9fb2-3784cc8f08d1"
      },
      "source": [
        "model.most_similar(positive=['beer', 'russia'], negative=['germany'], topn=1)"
      ],
      "execution_count": null,
      "outputs": [
        {
          "output_type": "execute_result",
          "data": {
            "text/plain": [
              "[('vodka', 0.5345780849456787)]"
            ]
          },
          "metadata": {},
          "execution_count": 55
        }
      ]
    },
    {
      "cell_type": "markdown",
      "metadata": {
        "id": "IJVn3PIFgG1F"
      },
      "source": [
        "### Visualisierung der Wortverwandtschaft mit TSNE\n",
        "Zuerst visualisieren wir die Verwandtschaftsbeziehungen der Wortvektoren mit TSNE. Dazu lassen wir uns die 200 Wörter heraussuchen, die dem Wort `pasta` am nächsten stehen, und erstellen uns eine Liste von deren Vektoren."
      ]
    },
    {
      "cell_type": "code",
      "metadata": {
        "id": "iw1nuS2rY6E4"
      },
      "source": [
        "top_similarity = model.most_similar(positive=['pasta'], topn=200)\n",
        "selected_words = [word for word, similarity in top_similarity]\n",
        "vectors = np.array([model.get_vector(word) for word in selected_words])"
      ],
      "execution_count": null,
      "outputs": []
    },
    {
      "cell_type": "markdown",
      "metadata": {
        "id": "gu9AAyCE6xrp"
      },
      "source": [
        "Jetzt können wir wieder TSNE verwenden, um die hochdimensionalen Vektoren in einem zweidimensionalen Raum zu platzieren und dabei deren lokale Verwandtschaftsbeziehungen beizubehalten."
      ]
    },
    {
      "cell_type": "code",
      "metadata": {
        "id": "_qr3uySrY_S0",
        "colab": {
          "base_uri": "https://localhost:8080/",
          "height": 542
        },
        "outputId": "fac52d34-3f5f-499c-ee90-96c8515b913b"
      },
      "source": [
        "import plotly.express as px\n",
        "import pandas as pd\n",
        "from sklearn.manifold import TSNE\n",
        "\n",
        "tsne = TSNE(\n",
        "    n_components = 2,\n",
        "    perplexity = 20 # ~Anzahl der Nachbarn zu die der Abstand möglichst genau approximiert werden soll \n",
        ")\n",
        "vectors_2D = tsne.fit_transform(vectors)\n",
        "\n",
        "to_plot = pd.DataFrame(vectors_2D, columns=['x', 'y'])\n",
        "to_plot['labels'] = selected_words\n",
        "\n",
        "px.scatter(to_plot, x='x', y='y', hover_name='labels')"
      ],
      "execution_count": null,
      "outputs": [
        {
          "output_type": "display_data",
          "data": {
            "text/html": [
              "<html>\n",
              "<head><meta charset=\"utf-8\" /></head>\n",
              "<body>\n",
              "    <div>            <script src=\"https://cdnjs.cloudflare.com/ajax/libs/mathjax/2.7.5/MathJax.js?config=TeX-AMS-MML_SVG\"></script><script type=\"text/javascript\">if (window.MathJax && window.MathJax.Hub && window.MathJax.Hub.Config) {window.MathJax.Hub.Config({SVG: {font: \"STIX-Web\"}});}</script>                <script type=\"text/javascript\">window.PlotlyConfig = {MathJaxConfig: 'local'};</script>\n",
              "        <script src=\"https://cdn.plot.ly/plotly-2.18.2.min.js\"></script>                <div id=\"caf44bbb-ec8e-4418-b45d-1a2260da4830\" class=\"plotly-graph-div\" style=\"height:525px; width:100%;\"></div>            <script type=\"text/javascript\">                                    window.PLOTLYENV=window.PLOTLYENV || {};                                    if (document.getElementById(\"caf44bbb-ec8e-4418-b45d-1a2260da4830\")) {                    Plotly.newPlot(                        \"caf44bbb-ec8e-4418-b45d-1a2260da4830\",                        [{\"hovertemplate\":\"<b>%{hovertext}</b><br><br>x=%{x}<br>y=%{y}<extra></extra>\",\"hovertext\":[\"cooked\",\"noodles\",\"salad\",\"sauce\",\"spaghetti\",\"salads\",\"macaroni\",\"cheese\",\"pesto\",\"ravioli\",\"pastas\",\"penne\",\"bread\",\"risotto\",\"sauces\",\"soup\",\"vegetables\",\"tomato\",\"couscous\",\"dish\",\"spinach\",\"dishes\",\"soups\",\"orzo\",\"sausage\",\"beans\",\"eggplant\",\"pizza\",\"sandwiches\",\"lasagna\",\"polenta\",\"fettuccine\",\"cooking\",\"dessert\",\"baked\",\"ingredients\",\"chicken\",\"potatoes\",\"uncooked\",\"linguine\",\"broccoli\",\"asparagus\",\"zucchini\",\"butter\",\"parmesan\",\"gnocchi\",\"delicious\",\"vegetable\",\"cooks\",\"lettuce\",\"roasted\",\"garlic\",\"prosciutto\",\"meal\",\"tortillas\",\"mushrooms\",\"flour\",\"yogurt\",\"noodle\",\"grilled\",\"dente\",\"pastry\",\"roast\",\"dough\",\"casserole\",\"tofu\",\"mayonnaise\",\"breads\",\"cream\",\"broth\",\"canned\",\"peas\",\"onion\",\"artichokes\",\"creamy\",\"steak\",\"stew\",\"steaks\",\"mashed\",\"cakes\",\"fried\",\"slices\",\"arugula\",\"desserts\",\"meatballs\",\"mozzarella\",\"seafood\",\"dried\",\"appetizers\",\"meats\",\"shrimp\",\"spoon\",\"entrees\",\"lentils\",\"rigatoni\",\"carrots\",\"recipe\",\"marinara\",\"meat\",\"spicy\",\"lobster\",\"onions\",\"pizzas\",\"sprinkle\",\"olives\",\"bake\",\"scallops\",\"sushi\",\"tortilla\",\"baking\",\"soy\",\"salted\",\"anchovies\",\"olive\",\"cake\",\"snack\",\"pastries\",\"vermicelli\",\"parsley\",\"ricotta\",\"croutons\",\"tomatoes\",\"cauliflower\",\"veggies\",\"meals\",\"chocolate\",\"cheeses\",\"appetizer\",\"fusilli\",\"potato\",\"stir\",\"pancetta\",\"oatmeal\",\"vinegar\",\"boil\",\"recipes\",\"sausages\",\"seasoning\",\"tacos\",\"sliced\",\"spices\",\"frying\",\"orecchiette\",\"celery\",\"paella\",\"vinaigrette\",\"cuisine\",\"tasty\",\"raisins\",\"gravy\",\"meatloaf\",\"chickpeas\",\"foods\",\"dumplings\",\"chopped\",\"pies\",\"grits\",\"pie\",\"almonds\",\"steamed\",\"burgers\",\"grill\",\"loaf\",\"sauteed\",\"loaves\",\"herbs\",\"tortellini\",\"chorizo\",\"oven\",\"cereal\",\"cook\",\"sandwich\",\"tuna\",\"marinated\",\"carbonara\",\"chili\",\"servings\",\"juice\",\"fries\",\"platter\",\"ounces\",\"pork\",\"boiling\",\"pudding\",\"entree\",\"seasonings\",\"snacks\",\"puree\",\"biscuits\",\"ragu\",\"ketchup\",\"ziti\",\"braised\",\"flavored\",\"flavorful\",\"pancakes\",\"toppings\",\"taste\",\"edible\",\"lentil\"],\"legendgroup\":\"\",\"marker\":{\"color\":\"#636efa\",\"symbol\":\"circle\"},\"mode\":\"markers\",\"name\":\"\",\"orientation\":\"v\",\"showlegend\":false,\"x\":[1.3100467920303345,4.870804786682129,-5.053891658782959,10.584420204162598,6.6567277908325195,-6.506827354431152,3.586317300796509,0.98103266954422,6.384984493255615,6.938373565673828,-7.259141445159912,2.714478015899658,-0.4999968111515045,4.83205509185791,-7.967782497406006,-3.54921817779541,3.9840095043182373,13.454690933227539,0.4018290042877197,-13.721357345581055,19.837909698486328,-13.162659645080566,-7.438805103302002,0.2579343914985657,0.06170247867703438,6.298277378082275,14.547917366027832,-4.736354827880859,-2.639662981033325,4.260589599609375,5.620212078094482,0.46401751041412354,-0.9708296060562134,-9.667137145996094,-5.351240634918213,-11.491756439208984,0.22014696896076202,4.6477837562561035,2.865058660507202,0.23465988039970398,18.804651260375977,17.101408004760742,15.111429214477539,-0.18749676644802094,11.316286087036133,6.583017826080322,-8.913824081420898,4.315922260284424,-2.3832285404205322,20.20020294189453,-3.742755174636841,15.598016738891602,14.776307106018066,-16.847431182861328,6.107357025146484,10.881874084472656,0.9528951048851013,10.076899528503418,4.171817302703857,-3.8394789695739746,-1.5036141872406006,-4.816580772399902,-3.6671154499053955,-4.1554059982299805,-15.19407844543457,6.488743305206299,11.269562721252441,-7.738499164581299,-1.8680689334869385,9.716269493103027,6.6518073081970215,7.722696781158447,15.72046184539795,16.14596939086914,-8.227399826049805,0.6375471949577332,-3.8806536197662354,0.6028943657875061,2.689955234527588,-6.235148906707764,-0.9675194621086121,11.864786148071289,19.494823455810547,-9.326258659362793,1.2457146644592285,12.65145492553711,-7.636053562164307,8.57418155670166,-10.383127212524414,-0.9825863838195801,-6.487611293792725,10.794269561767578,-10.39480972290039,6.80621862411499,2.989067792892456,16.619815826416016,-17.101795196533203,6.04639196395874,0.1123361811041832,-7.470719337463379,-6.343026161193848,14.547806739807129,-5.113288879394531,11.608034133911133,18.200185775756836,-4.728257179260254,-4.789394855499268,-11.833271980285645,6.500942707061768,-4.272661209106445,8.434698104858398,-13.176971435546875,-5.433670997619629,17.15308952331543,-4.692234516143799,-13.498903274536133,-7.315745830535889,4.99415397644043,14.546055793762207,10.271889686584473,8.4079008102417,13.337762832641602,17.886150360107422,-4.824887275695801,-16.88167381286621,-2.7791953086853027,1.2573271989822388,-12.8643159866333,3.3741002082824707,3.848407030105591,-15.39731502532959,15.311203002929688,-12.348899841308594,13.455348014831543,-14.730253219604492,-16.726198196411133,-0.15404285490512848,-10.513442993164062,4.996086597442627,12.225336074829102,-10.726762771606445,0.7186688184738159,1.0681090354919434,16.3279972076416,2.8655035495758057,14.446748733520508,-12.374993324279785,-8.809919357299805,20.846712112426758,2.6958324909210205,2.452535629272461,6.612783432006836,-16.129396438598633,4.361959934234619,13.158035278320312,-6.882135391235352,1.0284395217895508,-6.409799575805664,20.454345703125,4.603509902954102,-2.0808265209198,0.2400805503129959,-0.9106217622756958,-3.2088260650634766,-0.2760201096534729,-11.18893051147461,7.973916530609131,-0.04493303224444389,-5.002852916717529,-13.103723526000977,-1.5255497694015503,-2.3086085319519043,-7.929560661315918,-4.272616863250732,5.788741588592529,-6.432046413421631,-14.159978866577148,13.38323974609375,-2.3118979930877686,10.74898910522461,18.78709602355957,0.8788931965827942,-14.257454872131348,-8.899613380432129,-12.408034324645996,-10.594015121459961,-13.814828872680664,10.307735443115234,-10.472307205200195,6.564404010772705,12.35419750213623,3.522878646850586,-2.6593360900878906,-6.611517429351807,-7.735336780548096,-8.603127479553223,-6.302626132965088,-10.164466857910156,-13.710105895996094,6.3885321617126465],\"xaxis\":\"x\",\"y\":[1.538297414779663,5.214550971984863,6.774819374084473,5.400942802429199,-22.62312126159668,7.2499799728393555,-10.48247241973877,14.569673538208008,-17.32394027709961,-15.32335090637207,8.557198524475098,-21.635326385498047,20.181371688842773,-14.013223648071289,5.919515132904053,0.9292688369750977,-0.7652033567428589,1.717498779296875,-16.350948333740234,2.7533719539642334,-8.04392147064209,3.2644309997558594,6.89491605758667,-18.111169815063477,-4.931102275848389,-2.998918294906616,-7.3445048332214355,11.657472610473633,11.564913749694824,-16.018035888671875,-12.994853019714355,-22.832067489624023,3.3164117336273193,10.910140991210938,14.715145111083984,-0.9302764534950256,0.09275196492671967,-3.4408323764801025,2.149019479751587,-22.53978157043457,-6.320052623748779,-8.18707275390625,-7.253995895385742,16.970378875732422,-12.934009552001953,-14.840576171875,2.936110496520996,-0.08065368235111237,3.9653687477111816,-8.562704086303711,-4.2049784660339355,-0.9857857823371887,-13.958772659301758,11.097907066345215,16.55829429626465,-2.3088791370391846,19.18379783630371,9.883957862854004,4.790272235870361,-5.172477722167969,-18.697378158569336,19.527912139892578,-3.2128255367279053,20.77126693725586,1.5813236236572266,4.983180999755859,9.51623249053955,12.991423606872559,16.255170822143555,3.4508349895477295,-0.7930636405944824,-5.05336856842041,-1.8598815202713013,-8.593025207519531,-0.39794591069221497,8.62584114074707,0.10275613516569138,8.109432220458984,-8.246187210083008,15.445690155029297,0.8654114603996277,-5.603935718536377,-9.929635047912598,10.180570602416992,-10.96230411529541,-14.754819869995117,-11.014107704162598,-0.7915223240852356,8.585142135620117,-2.6095376014709473,-11.078393936157227,-9.026726722717285,7.843696594238281,-6.491893768310547,-20.934959411621094,-4.347434997558594,5.377485275268555,-18.96510887145996,-1.3423861265182495,0.6867785453796387,-11.89171028137207,-2.1267032623291016,11.038228988647461,-9.477837562561035,1.2578579187393188,24.41908836364746,-10.597126007080078,11.943053245544434,16.930423736572266,23.510971069335938,6.161099433898926,-11.344326972961426,-7.942509174346924,2.0000758171081543,16.9129695892334,14.900498390197754,14.091727256774902,6.38881254196167,-4.114151954650879,-15.617642402648926,-13.117463111877441,0.8965360522270203,-6.074573040008545,3.8978323936462402,11.520119667053223,16.578283309936523,14.053043365478516,8.638843536376953,-22.508670806884766,-3.5590455532073975,-9.174409866333008,-13.840461730957031,18.27435302734375,5.997713565826416,-10.04040241241455,5.261085033416748,-4.4376983642578125,-5.776742935180664,15.353888511657715,-4.745826721191406,-2.1972413063049316,3.3752450942993164,-19.367395401000977,-3.408536195755005,-13.695243835449219,6.903350353240967,4.193927764892578,3.3751609325408936,-0.4472154378890991,-7.19294548034668,-9.450054168701172,-6.960149765014648,14.997936248779297,9.297185897827148,-3.7953193187713623,16.343158721923828,-8.63001537322998,17.8247127532959,-0.37233489751815796,10.84351634979248,9.334749221801758,6.290929794311523,20.793928146362305,-9.65945816040039,22.030635833740234,-2.6548335552215576,-16.12385368347168,-6.1827239990234375,25.103023529052734,17.85833168029785,4.606436729431152,12.068782806396484,-12.597723960876465,-6.370360374450684,-21.780773162841797,-1.6787960529327393,9.116623878479004,4.518468379974365,8.614608764648438,-8.193033218383789,5.360518455505371,-1.5043578147888184,-10.530256271362305,19.16082000732422,7.942246913909912,-5.260973930358887,14.634724617004395,2.234933376312256,16.070547103881836,-20.06532859802246,9.462410926818848,-20.178707122802734,-9.025540351867676,1.005351185798645,2.3455402851104736,15.308019638061523,10.002257347106934,1.2074196338653564,-3.0961146354675293,-9.744651794433594],\"yaxis\":\"y\",\"type\":\"scatter\"}],                        {\"template\":{\"data\":{\"histogram2dcontour\":[{\"type\":\"histogram2dcontour\",\"colorbar\":{\"outlinewidth\":0,\"ticks\":\"\"},\"colorscale\":[[0.0,\"#0d0887\"],[0.1111111111111111,\"#46039f\"],[0.2222222222222222,\"#7201a8\"],[0.3333333333333333,\"#9c179e\"],[0.4444444444444444,\"#bd3786\"],[0.5555555555555556,\"#d8576b\"],[0.6666666666666666,\"#ed7953\"],[0.7777777777777778,\"#fb9f3a\"],[0.8888888888888888,\"#fdca26\"],[1.0,\"#f0f921\"]]}],\"choropleth\":[{\"type\":\"choropleth\",\"colorbar\":{\"outlinewidth\":0,\"ticks\":\"\"}}],\"histogram2d\":[{\"type\":\"histogram2d\",\"colorbar\":{\"outlinewidth\":0,\"ticks\":\"\"},\"colorscale\":[[0.0,\"#0d0887\"],[0.1111111111111111,\"#46039f\"],[0.2222222222222222,\"#7201a8\"],[0.3333333333333333,\"#9c179e\"],[0.4444444444444444,\"#bd3786\"],[0.5555555555555556,\"#d8576b\"],[0.6666666666666666,\"#ed7953\"],[0.7777777777777778,\"#fb9f3a\"],[0.8888888888888888,\"#fdca26\"],[1.0,\"#f0f921\"]]}],\"heatmap\":[{\"type\":\"heatmap\",\"colorbar\":{\"outlinewidth\":0,\"ticks\":\"\"},\"colorscale\":[[0.0,\"#0d0887\"],[0.1111111111111111,\"#46039f\"],[0.2222222222222222,\"#7201a8\"],[0.3333333333333333,\"#9c179e\"],[0.4444444444444444,\"#bd3786\"],[0.5555555555555556,\"#d8576b\"],[0.6666666666666666,\"#ed7953\"],[0.7777777777777778,\"#fb9f3a\"],[0.8888888888888888,\"#fdca26\"],[1.0,\"#f0f921\"]]}],\"heatmapgl\":[{\"type\":\"heatmapgl\",\"colorbar\":{\"outlinewidth\":0,\"ticks\":\"\"},\"colorscale\":[[0.0,\"#0d0887\"],[0.1111111111111111,\"#46039f\"],[0.2222222222222222,\"#7201a8\"],[0.3333333333333333,\"#9c179e\"],[0.4444444444444444,\"#bd3786\"],[0.5555555555555556,\"#d8576b\"],[0.6666666666666666,\"#ed7953\"],[0.7777777777777778,\"#fb9f3a\"],[0.8888888888888888,\"#fdca26\"],[1.0,\"#f0f921\"]]}],\"contourcarpet\":[{\"type\":\"contourcarpet\",\"colorbar\":{\"outlinewidth\":0,\"ticks\":\"\"}}],\"contour\":[{\"type\":\"contour\",\"colorbar\":{\"outlinewidth\":0,\"ticks\":\"\"},\"colorscale\":[[0.0,\"#0d0887\"],[0.1111111111111111,\"#46039f\"],[0.2222222222222222,\"#7201a8\"],[0.3333333333333333,\"#9c179e\"],[0.4444444444444444,\"#bd3786\"],[0.5555555555555556,\"#d8576b\"],[0.6666666666666666,\"#ed7953\"],[0.7777777777777778,\"#fb9f3a\"],[0.8888888888888888,\"#fdca26\"],[1.0,\"#f0f921\"]]}],\"surface\":[{\"type\":\"surface\",\"colorbar\":{\"outlinewidth\":0,\"ticks\":\"\"},\"colorscale\":[[0.0,\"#0d0887\"],[0.1111111111111111,\"#46039f\"],[0.2222222222222222,\"#7201a8\"],[0.3333333333333333,\"#9c179e\"],[0.4444444444444444,\"#bd3786\"],[0.5555555555555556,\"#d8576b\"],[0.6666666666666666,\"#ed7953\"],[0.7777777777777778,\"#fb9f3a\"],[0.8888888888888888,\"#fdca26\"],[1.0,\"#f0f921\"]]}],\"mesh3d\":[{\"type\":\"mesh3d\",\"colorbar\":{\"outlinewidth\":0,\"ticks\":\"\"}}],\"scatter\":[{\"fillpattern\":{\"fillmode\":\"overlay\",\"size\":10,\"solidity\":0.2},\"type\":\"scatter\"}],\"parcoords\":[{\"type\":\"parcoords\",\"line\":{\"colorbar\":{\"outlinewidth\":0,\"ticks\":\"\"}}}],\"scatterpolargl\":[{\"type\":\"scatterpolargl\",\"marker\":{\"colorbar\":{\"outlinewidth\":0,\"ticks\":\"\"}}}],\"bar\":[{\"error_x\":{\"color\":\"#2a3f5f\"},\"error_y\":{\"color\":\"#2a3f5f\"},\"marker\":{\"line\":{\"color\":\"#E5ECF6\",\"width\":0.5},\"pattern\":{\"fillmode\":\"overlay\",\"size\":10,\"solidity\":0.2}},\"type\":\"bar\"}],\"scattergeo\":[{\"type\":\"scattergeo\",\"marker\":{\"colorbar\":{\"outlinewidth\":0,\"ticks\":\"\"}}}],\"scatterpolar\":[{\"type\":\"scatterpolar\",\"marker\":{\"colorbar\":{\"outlinewidth\":0,\"ticks\":\"\"}}}],\"histogram\":[{\"marker\":{\"pattern\":{\"fillmode\":\"overlay\",\"size\":10,\"solidity\":0.2}},\"type\":\"histogram\"}],\"scattergl\":[{\"type\":\"scattergl\",\"marker\":{\"colorbar\":{\"outlinewidth\":0,\"ticks\":\"\"}}}],\"scatter3d\":[{\"type\":\"scatter3d\",\"line\":{\"colorbar\":{\"outlinewidth\":0,\"ticks\":\"\"}},\"marker\":{\"colorbar\":{\"outlinewidth\":0,\"ticks\":\"\"}}}],\"scattermapbox\":[{\"type\":\"scattermapbox\",\"marker\":{\"colorbar\":{\"outlinewidth\":0,\"ticks\":\"\"}}}],\"scatterternary\":[{\"type\":\"scatterternary\",\"marker\":{\"colorbar\":{\"outlinewidth\":0,\"ticks\":\"\"}}}],\"scattercarpet\":[{\"type\":\"scattercarpet\",\"marker\":{\"colorbar\":{\"outlinewidth\":0,\"ticks\":\"\"}}}],\"carpet\":[{\"aaxis\":{\"endlinecolor\":\"#2a3f5f\",\"gridcolor\":\"white\",\"linecolor\":\"white\",\"minorgridcolor\":\"white\",\"startlinecolor\":\"#2a3f5f\"},\"baxis\":{\"endlinecolor\":\"#2a3f5f\",\"gridcolor\":\"white\",\"linecolor\":\"white\",\"minorgridcolor\":\"white\",\"startlinecolor\":\"#2a3f5f\"},\"type\":\"carpet\"}],\"table\":[{\"cells\":{\"fill\":{\"color\":\"#EBF0F8\"},\"line\":{\"color\":\"white\"}},\"header\":{\"fill\":{\"color\":\"#C8D4E3\"},\"line\":{\"color\":\"white\"}},\"type\":\"table\"}],\"barpolar\":[{\"marker\":{\"line\":{\"color\":\"#E5ECF6\",\"width\":0.5},\"pattern\":{\"fillmode\":\"overlay\",\"size\":10,\"solidity\":0.2}},\"type\":\"barpolar\"}],\"pie\":[{\"automargin\":true,\"type\":\"pie\"}]},\"layout\":{\"autotypenumbers\":\"strict\",\"colorway\":[\"#636efa\",\"#EF553B\",\"#00cc96\",\"#ab63fa\",\"#FFA15A\",\"#19d3f3\",\"#FF6692\",\"#B6E880\",\"#FF97FF\",\"#FECB52\"],\"font\":{\"color\":\"#2a3f5f\"},\"hovermode\":\"closest\",\"hoverlabel\":{\"align\":\"left\"},\"paper_bgcolor\":\"white\",\"plot_bgcolor\":\"#E5ECF6\",\"polar\":{\"bgcolor\":\"#E5ECF6\",\"angularaxis\":{\"gridcolor\":\"white\",\"linecolor\":\"white\",\"ticks\":\"\"},\"radialaxis\":{\"gridcolor\":\"white\",\"linecolor\":\"white\",\"ticks\":\"\"}},\"ternary\":{\"bgcolor\":\"#E5ECF6\",\"aaxis\":{\"gridcolor\":\"white\",\"linecolor\":\"white\",\"ticks\":\"\"},\"baxis\":{\"gridcolor\":\"white\",\"linecolor\":\"white\",\"ticks\":\"\"},\"caxis\":{\"gridcolor\":\"white\",\"linecolor\":\"white\",\"ticks\":\"\"}},\"coloraxis\":{\"colorbar\":{\"outlinewidth\":0,\"ticks\":\"\"}},\"colorscale\":{\"sequential\":[[0.0,\"#0d0887\"],[0.1111111111111111,\"#46039f\"],[0.2222222222222222,\"#7201a8\"],[0.3333333333333333,\"#9c179e\"],[0.4444444444444444,\"#bd3786\"],[0.5555555555555556,\"#d8576b\"],[0.6666666666666666,\"#ed7953\"],[0.7777777777777778,\"#fb9f3a\"],[0.8888888888888888,\"#fdca26\"],[1.0,\"#f0f921\"]],\"sequentialminus\":[[0.0,\"#0d0887\"],[0.1111111111111111,\"#46039f\"],[0.2222222222222222,\"#7201a8\"],[0.3333333333333333,\"#9c179e\"],[0.4444444444444444,\"#bd3786\"],[0.5555555555555556,\"#d8576b\"],[0.6666666666666666,\"#ed7953\"],[0.7777777777777778,\"#fb9f3a\"],[0.8888888888888888,\"#fdca26\"],[1.0,\"#f0f921\"]],\"diverging\":[[0,\"#8e0152\"],[0.1,\"#c51b7d\"],[0.2,\"#de77ae\"],[0.3,\"#f1b6da\"],[0.4,\"#fde0ef\"],[0.5,\"#f7f7f7\"],[0.6,\"#e6f5d0\"],[0.7,\"#b8e186\"],[0.8,\"#7fbc41\"],[0.9,\"#4d9221\"],[1,\"#276419\"]]},\"xaxis\":{\"gridcolor\":\"white\",\"linecolor\":\"white\",\"ticks\":\"\",\"title\":{\"standoff\":15},\"zerolinecolor\":\"white\",\"automargin\":true,\"zerolinewidth\":2},\"yaxis\":{\"gridcolor\":\"white\",\"linecolor\":\"white\",\"ticks\":\"\",\"title\":{\"standoff\":15},\"zerolinecolor\":\"white\",\"automargin\":true,\"zerolinewidth\":2},\"scene\":{\"xaxis\":{\"backgroundcolor\":\"#E5ECF6\",\"gridcolor\":\"white\",\"linecolor\":\"white\",\"showbackground\":true,\"ticks\":\"\",\"zerolinecolor\":\"white\",\"gridwidth\":2},\"yaxis\":{\"backgroundcolor\":\"#E5ECF6\",\"gridcolor\":\"white\",\"linecolor\":\"white\",\"showbackground\":true,\"ticks\":\"\",\"zerolinecolor\":\"white\",\"gridwidth\":2},\"zaxis\":{\"backgroundcolor\":\"#E5ECF6\",\"gridcolor\":\"white\",\"linecolor\":\"white\",\"showbackground\":true,\"ticks\":\"\",\"zerolinecolor\":\"white\",\"gridwidth\":2}},\"shapedefaults\":{\"line\":{\"color\":\"#2a3f5f\"}},\"annotationdefaults\":{\"arrowcolor\":\"#2a3f5f\",\"arrowhead\":0,\"arrowwidth\":1},\"geo\":{\"bgcolor\":\"white\",\"landcolor\":\"#E5ECF6\",\"subunitcolor\":\"white\",\"showland\":true,\"showlakes\":true,\"lakecolor\":\"white\"},\"title\":{\"x\":0.05},\"mapbox\":{\"style\":\"light\"}}},\"xaxis\":{\"anchor\":\"y\",\"domain\":[0.0,1.0],\"title\":{\"text\":\"x\"}},\"yaxis\":{\"anchor\":\"x\",\"domain\":[0.0,1.0],\"title\":{\"text\":\"y\"}},\"legend\":{\"tracegroupgap\":0},\"margin\":{\"t\":60}},                        {\"responsive\": true}                    ).then(function(){\n",
              "                            \n",
              "var gd = document.getElementById('caf44bbb-ec8e-4418-b45d-1a2260da4830');\n",
              "var x = new MutationObserver(function (mutations, observer) {{\n",
              "        var display = window.getComputedStyle(gd).display;\n",
              "        if (!display || display === 'none') {{\n",
              "            console.log([gd, 'removed!']);\n",
              "            Plotly.purge(gd);\n",
              "            observer.disconnect();\n",
              "        }}\n",
              "}});\n",
              "\n",
              "// Listen for the removal of the full notebook cells\n",
              "var notebookContainer = gd.closest('#notebook-container');\n",
              "if (notebookContainer) {{\n",
              "    x.observe(notebookContainer, {childList: true});\n",
              "}}\n",
              "\n",
              "// Listen for the clearing of the current output cell\n",
              "var outputEl = gd.closest('.output');\n",
              "if (outputEl) {{\n",
              "    x.observe(outputEl, {childList: true});\n",
              "}}\n",
              "\n",
              "                        })                };                            </script>        </div>\n",
              "</body>\n",
              "</html>"
            ]
          },
          "metadata": {}
        }
      ]
    },
    {
      "cell_type": "markdown",
      "source": [
        "##### Aufgabe: Was beobachten Sie wenn Sie den Parameter Perplexity ändern?"
      ],
      "metadata": {
        "id": "yjOe4GbY4MUg"
      }
    },
    {
      "cell_type": "markdown",
      "metadata": {
        "id": "oBRo8vSppcPO"
      },
      "source": [
        "### Visualisierung der Wortverwandtschaften mit PCA"
      ]
    },
    {
      "cell_type": "code",
      "metadata": {
        "id": "hL0lJ6GL6o3L"
      },
      "source": [
        "words_to_vis = [\n",
        "    'germany', 'italy', 'france', 'spain', 'uk', 'poland', 'russia', 'austria',\n",
        "    'berlin', 'rome', 'paris', 'madrid', 'london', 'warsaw', 'moscow', 'vienna', \n",
        "]"
      ],
      "execution_count": null,
      "outputs": []
    },
    {
      "cell_type": "markdown",
      "metadata": {
        "id": "-bCNyEkMpjJX"
      },
      "source": [
        "Wir errechnen zunächst wieder die Wortvektoren der ausgewählten Wörter."
      ]
    },
    {
      "cell_type": "code",
      "metadata": {
        "id": "FikqqY_7v1Vj"
      },
      "source": [
        "vectors = [model.get_vector(word, norm=True) for word in words_to_vis]"
      ],
      "execution_count": null,
      "outputs": []
    },
    {
      "cell_type": "markdown",
      "metadata": {
        "id": "ipJ1MOQ3pvZ0"
      },
      "source": [
        "Nun visualisieren wir diese wir in einem 2D-Raum. Anders als zuvor verwenden wir nun jedoch die Methode `PCA`, denn im Gegensatz zu TSNE versucht PCA auch Beziehungen von weit voneinander entfernten Punkten mit abzubilden. Bei wenigen Punkte ist das vorteilhaft, jedoch geht dieser Vorteil bei vielen Punkten schnell verloren, da deren komplexe Nachbarschaftsbeziehungen im hochdimensionalen Raum nicht adäquat in 2D abgebildet werden können."
      ]
    },
    {
      "cell_type": "code",
      "metadata": {
        "id": "ihK8vVqMw8Fp"
      },
      "source": [
        "from sklearn.decomposition import PCA\n",
        "import plotly.express as px\n",
        "import pandas as pd"
      ],
      "execution_count": null,
      "outputs": []
    },
    {
      "cell_type": "code",
      "metadata": {
        "id": "H_2q6bWDv2XY"
      },
      "source": [
        "pca = PCA(n_components=2)\n",
        "vectors_2D = pca.fit_transform(vectors)"
      ],
      "execution_count": null,
      "outputs": []
    },
    {
      "cell_type": "code",
      "metadata": {
        "id": "viQDxmP0weWH",
        "colab": {
          "base_uri": "https://localhost:8080/",
          "height": 542
        },
        "outputId": "90b2259b-f76f-4f71-bed7-7bcb84429de1"
      },
      "source": [
        "to_plot = pd.DataFrame(vectors_2D, columns=['x', 'y'])\n",
        "to_plot['labels'] = words_to_vis\n",
        "\n",
        "px.scatter(to_plot, x='x', y='y', hover_name='labels')"
      ],
      "execution_count": null,
      "outputs": [
        {
          "output_type": "display_data",
          "data": {
            "text/html": [
              "<html>\n",
              "<head><meta charset=\"utf-8\" /></head>\n",
              "<body>\n",
              "    <div>            <script src=\"https://cdnjs.cloudflare.com/ajax/libs/mathjax/2.7.5/MathJax.js?config=TeX-AMS-MML_SVG\"></script><script type=\"text/javascript\">if (window.MathJax && window.MathJax.Hub && window.MathJax.Hub.Config) {window.MathJax.Hub.Config({SVG: {font: \"STIX-Web\"}});}</script>                <script type=\"text/javascript\">window.PlotlyConfig = {MathJaxConfig: 'local'};</script>\n",
              "        <script src=\"https://cdn.plot.ly/plotly-2.18.2.min.js\"></script>                <div id=\"decb3b24-e17a-4a3f-988b-352ac84ccc82\" class=\"plotly-graph-div\" style=\"height:525px; width:100%;\"></div>            <script type=\"text/javascript\">                                    window.PLOTLYENV=window.PLOTLYENV || {};                                    if (document.getElementById(\"decb3b24-e17a-4a3f-988b-352ac84ccc82\")) {                    Plotly.newPlot(                        \"decb3b24-e17a-4a3f-988b-352ac84ccc82\",                        [{\"hovertemplate\":\"<b>%{hovertext}</b><br><br>x=%{x}<br>y=%{y}<extra></extra>\",\"hovertext\":[\"germany\",\"italy\",\"france\",\"spain\",\"uk\",\"poland\",\"russia\",\"austria\",\"berlin\",\"rome\",\"paris\",\"madrid\",\"london\",\"warsaw\",\"moscow\",\"vienna\"],\"legendgroup\":\"\",\"marker\":{\"color\":\"#636efa\",\"symbol\":\"circle\"},\"mode\":\"markers\",\"name\":\"\",\"orientation\":\"v\",\"showlegend\":false,\"x\":[0.3137219674505065,0.44482488081969956,0.3555203632678172,0.4351306183720922,0.19092516883732533,0.3085748649771627,0.24383417139430869,0.3384253560558429,-0.37405095521765647,-0.23108487933643787,-0.3511295700555947,-0.20038188973834176,-0.4243745332312704,-0.3386238212794636,-0.3250041392310369,-0.3863076030849534],\"xaxis\":\"x\",\"y\":[0.19373790901445653,-0.16650829533816144,-0.2540286254227327,-0.2991256646343535,-0.3695381003943362,0.46598721362127893,0.333630054561712,0.2393179783761296,0.1955020642395743,-0.2035220307277101,-0.30809046863559036,-0.38115557179916126,-0.3667469194242327,0.45920602386797765,0.2902992427106625,0.1710351899844867],\"yaxis\":\"y\",\"type\":\"scatter\"}],                        {\"template\":{\"data\":{\"histogram2dcontour\":[{\"type\":\"histogram2dcontour\",\"colorbar\":{\"outlinewidth\":0,\"ticks\":\"\"},\"colorscale\":[[0.0,\"#0d0887\"],[0.1111111111111111,\"#46039f\"],[0.2222222222222222,\"#7201a8\"],[0.3333333333333333,\"#9c179e\"],[0.4444444444444444,\"#bd3786\"],[0.5555555555555556,\"#d8576b\"],[0.6666666666666666,\"#ed7953\"],[0.7777777777777778,\"#fb9f3a\"],[0.8888888888888888,\"#fdca26\"],[1.0,\"#f0f921\"]]}],\"choropleth\":[{\"type\":\"choropleth\",\"colorbar\":{\"outlinewidth\":0,\"ticks\":\"\"}}],\"histogram2d\":[{\"type\":\"histogram2d\",\"colorbar\":{\"outlinewidth\":0,\"ticks\":\"\"},\"colorscale\":[[0.0,\"#0d0887\"],[0.1111111111111111,\"#46039f\"],[0.2222222222222222,\"#7201a8\"],[0.3333333333333333,\"#9c179e\"],[0.4444444444444444,\"#bd3786\"],[0.5555555555555556,\"#d8576b\"],[0.6666666666666666,\"#ed7953\"],[0.7777777777777778,\"#fb9f3a\"],[0.8888888888888888,\"#fdca26\"],[1.0,\"#f0f921\"]]}],\"heatmap\":[{\"type\":\"heatmap\",\"colorbar\":{\"outlinewidth\":0,\"ticks\":\"\"},\"colorscale\":[[0.0,\"#0d0887\"],[0.1111111111111111,\"#46039f\"],[0.2222222222222222,\"#7201a8\"],[0.3333333333333333,\"#9c179e\"],[0.4444444444444444,\"#bd3786\"],[0.5555555555555556,\"#d8576b\"],[0.6666666666666666,\"#ed7953\"],[0.7777777777777778,\"#fb9f3a\"],[0.8888888888888888,\"#fdca26\"],[1.0,\"#f0f921\"]]}],\"heatmapgl\":[{\"type\":\"heatmapgl\",\"colorbar\":{\"outlinewidth\":0,\"ticks\":\"\"},\"colorscale\":[[0.0,\"#0d0887\"],[0.1111111111111111,\"#46039f\"],[0.2222222222222222,\"#7201a8\"],[0.3333333333333333,\"#9c179e\"],[0.4444444444444444,\"#bd3786\"],[0.5555555555555556,\"#d8576b\"],[0.6666666666666666,\"#ed7953\"],[0.7777777777777778,\"#fb9f3a\"],[0.8888888888888888,\"#fdca26\"],[1.0,\"#f0f921\"]]}],\"contourcarpet\":[{\"type\":\"contourcarpet\",\"colorbar\":{\"outlinewidth\":0,\"ticks\":\"\"}}],\"contour\":[{\"type\":\"contour\",\"colorbar\":{\"outlinewidth\":0,\"ticks\":\"\"},\"colorscale\":[[0.0,\"#0d0887\"],[0.1111111111111111,\"#46039f\"],[0.2222222222222222,\"#7201a8\"],[0.3333333333333333,\"#9c179e\"],[0.4444444444444444,\"#bd3786\"],[0.5555555555555556,\"#d8576b\"],[0.6666666666666666,\"#ed7953\"],[0.7777777777777778,\"#fb9f3a\"],[0.8888888888888888,\"#fdca26\"],[1.0,\"#f0f921\"]]}],\"surface\":[{\"type\":\"surface\",\"colorbar\":{\"outlinewidth\":0,\"ticks\":\"\"},\"colorscale\":[[0.0,\"#0d0887\"],[0.1111111111111111,\"#46039f\"],[0.2222222222222222,\"#7201a8\"],[0.3333333333333333,\"#9c179e\"],[0.4444444444444444,\"#bd3786\"],[0.5555555555555556,\"#d8576b\"],[0.6666666666666666,\"#ed7953\"],[0.7777777777777778,\"#fb9f3a\"],[0.8888888888888888,\"#fdca26\"],[1.0,\"#f0f921\"]]}],\"mesh3d\":[{\"type\":\"mesh3d\",\"colorbar\":{\"outlinewidth\":0,\"ticks\":\"\"}}],\"scatter\":[{\"fillpattern\":{\"fillmode\":\"overlay\",\"size\":10,\"solidity\":0.2},\"type\":\"scatter\"}],\"parcoords\":[{\"type\":\"parcoords\",\"line\":{\"colorbar\":{\"outlinewidth\":0,\"ticks\":\"\"}}}],\"scatterpolargl\":[{\"type\":\"scatterpolargl\",\"marker\":{\"colorbar\":{\"outlinewidth\":0,\"ticks\":\"\"}}}],\"bar\":[{\"error_x\":{\"color\":\"#2a3f5f\"},\"error_y\":{\"color\":\"#2a3f5f\"},\"marker\":{\"line\":{\"color\":\"#E5ECF6\",\"width\":0.5},\"pattern\":{\"fillmode\":\"overlay\",\"size\":10,\"solidity\":0.2}},\"type\":\"bar\"}],\"scattergeo\":[{\"type\":\"scattergeo\",\"marker\":{\"colorbar\":{\"outlinewidth\":0,\"ticks\":\"\"}}}],\"scatterpolar\":[{\"type\":\"scatterpolar\",\"marker\":{\"colorbar\":{\"outlinewidth\":0,\"ticks\":\"\"}}}],\"histogram\":[{\"marker\":{\"pattern\":{\"fillmode\":\"overlay\",\"size\":10,\"solidity\":0.2}},\"type\":\"histogram\"}],\"scattergl\":[{\"type\":\"scattergl\",\"marker\":{\"colorbar\":{\"outlinewidth\":0,\"ticks\":\"\"}}}],\"scatter3d\":[{\"type\":\"scatter3d\",\"line\":{\"colorbar\":{\"outlinewidth\":0,\"ticks\":\"\"}},\"marker\":{\"colorbar\":{\"outlinewidth\":0,\"ticks\":\"\"}}}],\"scattermapbox\":[{\"type\":\"scattermapbox\",\"marker\":{\"colorbar\":{\"outlinewidth\":0,\"ticks\":\"\"}}}],\"scatterternary\":[{\"type\":\"scatterternary\",\"marker\":{\"colorbar\":{\"outlinewidth\":0,\"ticks\":\"\"}}}],\"scattercarpet\":[{\"type\":\"scattercarpet\",\"marker\":{\"colorbar\":{\"outlinewidth\":0,\"ticks\":\"\"}}}],\"carpet\":[{\"aaxis\":{\"endlinecolor\":\"#2a3f5f\",\"gridcolor\":\"white\",\"linecolor\":\"white\",\"minorgridcolor\":\"white\",\"startlinecolor\":\"#2a3f5f\"},\"baxis\":{\"endlinecolor\":\"#2a3f5f\",\"gridcolor\":\"white\",\"linecolor\":\"white\",\"minorgridcolor\":\"white\",\"startlinecolor\":\"#2a3f5f\"},\"type\":\"carpet\"}],\"table\":[{\"cells\":{\"fill\":{\"color\":\"#EBF0F8\"},\"line\":{\"color\":\"white\"}},\"header\":{\"fill\":{\"color\":\"#C8D4E3\"},\"line\":{\"color\":\"white\"}},\"type\":\"table\"}],\"barpolar\":[{\"marker\":{\"line\":{\"color\":\"#E5ECF6\",\"width\":0.5},\"pattern\":{\"fillmode\":\"overlay\",\"size\":10,\"solidity\":0.2}},\"type\":\"barpolar\"}],\"pie\":[{\"automargin\":true,\"type\":\"pie\"}]},\"layout\":{\"autotypenumbers\":\"strict\",\"colorway\":[\"#636efa\",\"#EF553B\",\"#00cc96\",\"#ab63fa\",\"#FFA15A\",\"#19d3f3\",\"#FF6692\",\"#B6E880\",\"#FF97FF\",\"#FECB52\"],\"font\":{\"color\":\"#2a3f5f\"},\"hovermode\":\"closest\",\"hoverlabel\":{\"align\":\"left\"},\"paper_bgcolor\":\"white\",\"plot_bgcolor\":\"#E5ECF6\",\"polar\":{\"bgcolor\":\"#E5ECF6\",\"angularaxis\":{\"gridcolor\":\"white\",\"linecolor\":\"white\",\"ticks\":\"\"},\"radialaxis\":{\"gridcolor\":\"white\",\"linecolor\":\"white\",\"ticks\":\"\"}},\"ternary\":{\"bgcolor\":\"#E5ECF6\",\"aaxis\":{\"gridcolor\":\"white\",\"linecolor\":\"white\",\"ticks\":\"\"},\"baxis\":{\"gridcolor\":\"white\",\"linecolor\":\"white\",\"ticks\":\"\"},\"caxis\":{\"gridcolor\":\"white\",\"linecolor\":\"white\",\"ticks\":\"\"}},\"coloraxis\":{\"colorbar\":{\"outlinewidth\":0,\"ticks\":\"\"}},\"colorscale\":{\"sequential\":[[0.0,\"#0d0887\"],[0.1111111111111111,\"#46039f\"],[0.2222222222222222,\"#7201a8\"],[0.3333333333333333,\"#9c179e\"],[0.4444444444444444,\"#bd3786\"],[0.5555555555555556,\"#d8576b\"],[0.6666666666666666,\"#ed7953\"],[0.7777777777777778,\"#fb9f3a\"],[0.8888888888888888,\"#fdca26\"],[1.0,\"#f0f921\"]],\"sequentialminus\":[[0.0,\"#0d0887\"],[0.1111111111111111,\"#46039f\"],[0.2222222222222222,\"#7201a8\"],[0.3333333333333333,\"#9c179e\"],[0.4444444444444444,\"#bd3786\"],[0.5555555555555556,\"#d8576b\"],[0.6666666666666666,\"#ed7953\"],[0.7777777777777778,\"#fb9f3a\"],[0.8888888888888888,\"#fdca26\"],[1.0,\"#f0f921\"]],\"diverging\":[[0,\"#8e0152\"],[0.1,\"#c51b7d\"],[0.2,\"#de77ae\"],[0.3,\"#f1b6da\"],[0.4,\"#fde0ef\"],[0.5,\"#f7f7f7\"],[0.6,\"#e6f5d0\"],[0.7,\"#b8e186\"],[0.8,\"#7fbc41\"],[0.9,\"#4d9221\"],[1,\"#276419\"]]},\"xaxis\":{\"gridcolor\":\"white\",\"linecolor\":\"white\",\"ticks\":\"\",\"title\":{\"standoff\":15},\"zerolinecolor\":\"white\",\"automargin\":true,\"zerolinewidth\":2},\"yaxis\":{\"gridcolor\":\"white\",\"linecolor\":\"white\",\"ticks\":\"\",\"title\":{\"standoff\":15},\"zerolinecolor\":\"white\",\"automargin\":true,\"zerolinewidth\":2},\"scene\":{\"xaxis\":{\"backgroundcolor\":\"#E5ECF6\",\"gridcolor\":\"white\",\"linecolor\":\"white\",\"showbackground\":true,\"ticks\":\"\",\"zerolinecolor\":\"white\",\"gridwidth\":2},\"yaxis\":{\"backgroundcolor\":\"#E5ECF6\",\"gridcolor\":\"white\",\"linecolor\":\"white\",\"showbackground\":true,\"ticks\":\"\",\"zerolinecolor\":\"white\",\"gridwidth\":2},\"zaxis\":{\"backgroundcolor\":\"#E5ECF6\",\"gridcolor\":\"white\",\"linecolor\":\"white\",\"showbackground\":true,\"ticks\":\"\",\"zerolinecolor\":\"white\",\"gridwidth\":2}},\"shapedefaults\":{\"line\":{\"color\":\"#2a3f5f\"}},\"annotationdefaults\":{\"arrowcolor\":\"#2a3f5f\",\"arrowhead\":0,\"arrowwidth\":1},\"geo\":{\"bgcolor\":\"white\",\"landcolor\":\"#E5ECF6\",\"subunitcolor\":\"white\",\"showland\":true,\"showlakes\":true,\"lakecolor\":\"white\"},\"title\":{\"x\":0.05},\"mapbox\":{\"style\":\"light\"}}},\"xaxis\":{\"anchor\":\"y\",\"domain\":[0.0,1.0],\"title\":{\"text\":\"x\"}},\"yaxis\":{\"anchor\":\"x\",\"domain\":[0.0,1.0],\"title\":{\"text\":\"y\"}},\"legend\":{\"tracegroupgap\":0},\"margin\":{\"t\":60}},                        {\"responsive\": true}                    ).then(function(){\n",
              "                            \n",
              "var gd = document.getElementById('decb3b24-e17a-4a3f-988b-352ac84ccc82');\n",
              "var x = new MutationObserver(function (mutations, observer) {{\n",
              "        var display = window.getComputedStyle(gd).display;\n",
              "        if (!display || display === 'none') {{\n",
              "            console.log([gd, 'removed!']);\n",
              "            Plotly.purge(gd);\n",
              "            observer.disconnect();\n",
              "        }}\n",
              "}});\n",
              "\n",
              "// Listen for the removal of the full notebook cells\n",
              "var notebookContainer = gd.closest('#notebook-container');\n",
              "if (notebookContainer) {{\n",
              "    x.observe(notebookContainer, {childList: true});\n",
              "}}\n",
              "\n",
              "// Listen for the clearing of the current output cell\n",
              "var outputEl = gd.closest('.output');\n",
              "if (outputEl) {{\n",
              "    x.observe(outputEl, {childList: true});\n",
              "}}\n",
              "\n",
              "                        })                };                            </script>        </div>\n",
              "</body>\n",
              "</html>"
            ]
          },
          "metadata": {}
        }
      ]
    },
    {
      "cell_type": "markdown",
      "metadata": {
        "id": "CyRiOFrKcLnc"
      },
      "source": [
        "#### Aufgabe: Visualierung anderer Begriffe"
      ]
    },
    {
      "cell_type": "markdown",
      "source": [
        "Ändern sie die Begriffe in der Variable `words_to_vis` und führen Sie alle nachfolgenden Zellen nochmals aus. Sind die visuelle Darstellung der Wordvektoren und ihre Nachbarschaftsbeziehungen intuitiv nachvollziehbar? Können Sie Eigenschaften identifizieren, die im Zusammenhang mit der X- und/oder Y-Achse stehen? "
      ],
      "metadata": {
        "id": "RcnXLC7o4qJl"
      }
    },
    {
      "cell_type": "code",
      "source": [],
      "metadata": {
        "id": "lI9nVyL94oxj"
      },
      "execution_count": null,
      "outputs": []
    },
    {
      "cell_type": "code",
      "source": [],
      "metadata": {
        "id": "7ekddZrc3O-z"
      },
      "execution_count": null,
      "outputs": []
    }
  ]
}