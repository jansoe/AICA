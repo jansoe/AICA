{
  "nbformat": 4,
  "nbformat_minor": 0,
  "metadata": {
    "colab": {
      "provenance": [],
      "include_colab_link": true
    },
    "kernelspec": {
      "name": "python3",
      "display_name": "Python 3"
    }
  },
  "cells": [
    {
      "cell_type": "markdown",
      "metadata": {
        "id": "view-in-github",
        "colab_type": "text"
      },
      "source": [
        "<a href=\"https://colab.research.google.com/github/jansoe/AICA/blob/main/Perzeptron.ipynb\" target=\"_parent\"><img src=\"https://colab.research.google.com/assets/colab-badge.svg\" alt=\"Open In Colab\"/></a>"
      ]
    },
    {
      "cell_type": "markdown",
      "metadata": {
        "id": "ybLcVYSTk3UB"
      },
      "source": [
        "# Das Perzeptron"
      ]
    },
    {
      "cell_type": "code",
      "metadata": {
        "id": "_As7IcqMMcXx",
        "cellView": "form"
      },
      "source": [
        "#@title Vorbereitungen \n",
        "#@markdown Hidden Code, bitte ausführen (Extra Funktionalitäten importieren)\n",
        "\n",
        "# Importe für Extrafunktinonalität\n",
        "import time\n",
        "import numpy as np\n",
        "import matplotlib.pyplot as plt\n",
        "\n",
        "# und stellen noch die  Ausgabe ein\n",
        "from matplotlib import rcParams\n",
        "rcParams['figure.figsize'] = (5, 5)\n",
        "rcParams['axes.grid'] = False"
      ],
      "execution_count": 16,
      "outputs": []
    },
    {
      "cell_type": "markdown",
      "source": [
        "## Ein Lernbeispiel simulieren\n",
        "\n",
        "Um unseren Lernalgorithmus auszuprobieren erstellen wir ein simuliertes Lernbeispiel:\n",
        "\n",
        "* Es gibt 2 Klassen/Kategorien\n",
        "  * Jede Klasse hat zwei verschiedene Eigenschaften"
      ],
      "metadata": {
        "id": "unxJhULvcnDT"
      }
    },
    {
      "cell_type": "code",
      "metadata": {
        "id": "sg-el3ghOQ7g"
      },
      "source": [
        "n_datenpunkte = 30 # Anzahl der Datenpunkte die wir simulieren\n",
        "separation = 1 # Durschnitlicher Abstand beider Klassen zueinander\n",
        "random_seed = 40 # Für jeden seed erhalten wir den gleichen Datensatz"
      ],
      "execution_count": 2,
      "outputs": []
    },
    {
      "cell_type": "code",
      "metadata": {
        "id": "qR-QnvYONNsE",
        "cellView": "form"
      },
      "source": [
        "#@markdown Hidden Code,  bitte ausführen. (Code generiert ein Lernbeispiel) \n",
        "\n",
        "# In Anhängigkeit der oberen Parameter generieren wir hier den Datansazt\n",
        "# und zeigen diesen zusätzlich an\n",
        "np.random.seed(random_seed)\n",
        "\n",
        "data = np.random.rand(n_datenpunkte,2)\n",
        "targets = 1.*(np.random.rand(n_datenpunkte)<0.5)\n",
        "data[targets==1, 0] += separation\n",
        "data[targets==1, 1] += 0.5*separation\n",
        "#data -= data.mean(axis=0)\n",
        "\n",
        "# Funktion um den Datensatz zu plotten\n",
        "def plot_data(data, targets, ax):\n",
        "    \n",
        "    ax.plot(data[targets==0,0], data[targets==0,1], 'o', label='Klasse 0')\n",
        "    ax.plot(data[targets==1,0], data[targets==1,1], 'o', label='Klasse 1')\n",
        "\n",
        "    minval = data.min()\n",
        "    maxval = data.max()\n",
        "    lim = [0.95*minval,1.05*maxval]    \n",
        "    plt.ylim(lim)\n",
        "    plt.xlim(lim)\n",
        "    plt.xlabel(\"Eigenschaft 1\")\n",
        "    plt.ylabel(\"Eigenschaft 2\")\n",
        "    \n",
        "    return lim\n",
        "    \n",
        "fig, ax = plt.subplots(figsize=(5,5))\n",
        "# jetzt wird die funktion ausgeführt\n",
        "_ = plot_data(data, targets, ax)\n",
        "_ = plt.legend(bbox_to_anchor=(1.05, 1))"
      ],
      "execution_count": null,
      "outputs": []
    },
    {
      "cell_type": "markdown",
      "source": [
        "## Perceptron"
      ],
      "metadata": {
        "id": "B0rfQ6ms1FAZ"
      }
    },
    {
      "cell_type": "markdown",
      "source": [
        "### Definition\n",
        "\n",
        "**Für einen Neustart des Perzeptron-Lernen hier neu beginnen**\n",
        "\n",
        "Wir definieren jetzt ein Perceptron welches jedem 2d-Eingabepunkt `x` in eine Klasse (0 oder 1) zuordnet in Abhängigkeit der Parameter `w0, w1, theta`."
      ],
      "metadata": {
        "id": "4VrH4s1BPoit"
      }
    },
    {
      "cell_type": "code",
      "source": [
        "def perceptron(x, w0, w1, theta):\n",
        "    activation = x[0]*w0 + x[1]*w1 + theta\n",
        "    output = int(activation > 0)\n",
        "    return output"
      ],
      "metadata": {
        "id": "bxQX4pq-1AhT"
      },
      "execution_count": 20,
      "outputs": []
    },
    {
      "cell_type": "markdown",
      "source": [
        "für einen beliebig gewählten Parametersatz ..."
      ],
      "metadata": {
        "id": "OiOys5Rw2ENe"
      }
    },
    {
      "cell_type": "code",
      "metadata": {
        "id": "Y9clliLcPIJb"
      },
      "source": [
        "w1 = 1\n",
        "w0 = 0\n",
        "theta = -1\n",
        "\n",
        "bisherige_updates =  0 # Buchführung wie oft eine Update/Lernen stattgefunden hat"
      ],
      "execution_count": 21,
      "outputs": []
    },
    {
      "cell_type": "markdown",
      "source": [
        "... gibt uns dann das Perceptron eine Klassenzuordnung:"
      ],
      "metadata": {
        "id": "ruK4_NFP2NDK"
      }
    },
    {
      "cell_type": "code",
      "source": [
        "x = [0, 0.5]\n",
        "perceptron(x, w0, w1, theta)"
      ],
      "metadata": {
        "colab": {
          "base_uri": "https://localhost:8080/"
        },
        "id": "Wkf4c7g-2X71",
        "outputId": "2774fe62-4b24-4a0d-944e-27de4a263d2a"
      },
      "execution_count": 22,
      "outputs": [
        {
          "output_type": "execute_result",
          "data": {
            "text/plain": [
              "0"
            ]
          },
          "metadata": {},
          "execution_count": 22
        }
      ]
    },
    {
      "cell_type": "markdown",
      "source": [
        "D.h. mit dem Perceptron können wir jeden Punkt im Eigenschaftsraum klassifizieren:"
      ],
      "metadata": {
        "id": "qR6rXMvj2r5E"
      }
    },
    {
      "cell_type": "code",
      "metadata": {
        "id": "RmBdYZLEPbMz",
        "cellView": "form"
      },
      "source": [
        "#@title\n",
        "#@markdown ... Visualisierung der Klassifizierung ...\n",
        "\n",
        "import time\n",
        "import matplotlib\n",
        "from google.colab import widgets\n",
        "\n",
        "def plot_boundary(w0, w1, theta, lim, ax, background = True,  **kwargs):\n",
        "    \"\"\" plot the decision boundary paramterized by w and theta within the bounds\n",
        "        of a square described by lim.\"\"\"\n",
        "    \n",
        "    if (w0==0) and (w1==0):\n",
        "        x0 = lim\n",
        "        x1 = [theta, theta] \n",
        "    elif w1 == 0:\n",
        "        # senkrecht\n",
        "        x0 = [-theta/w0]*2\n",
        "        x1 = [lim]  \n",
        "    else:\n",
        "        x0 = lim\n",
        "        #x1 = [(x*w0/w1 + theta) for x in x0]\n",
        "        x1 = [(-x*w0 - theta)/w1 for x in x0]\n",
        "    \n",
        "    ax.plot(x0, x1, 'k', **kwargs)\n",
        "    plt.xlim(lim)\n",
        "    \n",
        "    class_00=perceptron((x0[0], x0[0]), w0, w1, theta),\n",
        "    if background:\n",
        "        mi, ma = x0 \n",
        "        b_x0, b_x1 = x1\n",
        "        #color1 = 'b' if w0 < w1 else 'r'\n",
        "        #color2 = 'r' if color1 == 'b' else 'b'\n",
        "        color1 = 'b' if (class_00 and (b_x0 <0)) else 'r'\n",
        "        color2 = 'r' if color1 == 'b' else 'b'\n",
        "        area_0 = matplotlib.patches.Polygon(\n",
        "            [(mi, b_x0), (ma, b_x1), (ma, ma), (mi, ma), (mi, b_x0)],\n",
        "            #[(x0[0], x1[0]), (x0[1], x1[1]), \n",
        "            #(x0[1], x0[0]), (x0[0], x0[0]), \n",
        "            #(x0[0], x1[1]), (x0[0], x0[1]),\n",
        "            #],\n",
        "            alpha=0.2, color=color1\n",
        "        )\n",
        "        area_1 = matplotlib.patches.Polygon(\n",
        "            [(mi, b_x0), (ma, b_x1), (ma, mi), (mi, mi), (mi, b_x0)],\n",
        "            #[(x0[1], x0[1]), (x0[0], x0[1]), (x0[0], x1[0]), \n",
        "            #(x0[1], x1[1]), (x0[1], x0[0]), (x0[1], x1[0])],\n",
        "            alpha=0.2, color=color2\n",
        "        )\n",
        "        plt.gca().add_patch(area_0)\n",
        "        plt.gca().add_patch(area_1)\n",
        "\n",
        "\n",
        "class TrennebenenPlotter():\n",
        "\n",
        "    def __init__(self, data, targets, w0, w1, theta):\n",
        "\n",
        "        self.data = data\n",
        "        self.targets = targets\n",
        "        self.w0_old = w0\n",
        "        self.w1_old = w1\n",
        "        self.theta_old = theta\n",
        "\n",
        "\n",
        "    def plot_update(self, datenpunkt, w0, w1, theta, old=True):\n",
        "        \n",
        "        fig, ax = plt.subplots(figsize=(5,5))\n",
        "        lim = plot_data(self.data, self.targets, ax)\n",
        "        plot_boundary(w0, w1, theta, lim, ax, label='Entscheidungsgrenze aktuell')\n",
        "\n",
        "        if old:\n",
        "            plot_boundary(\n",
        "                self.w0_old, self.w1_old, self.theta_old, lim, ax, \n",
        "                background = False, alpha=0.2, label='Entscheidungsgrenze vorher'\n",
        "            )\n",
        "            ax.plot(datenpunkt[0], datenpunkt[1], 'or', markersize = 10, mfc='none')\n",
        "            _ = plt.legend(bbox_to_anchor=(1.05, 1))\n",
        "\n",
        "        # wir speicher die alten Werte um das update spaeter zu visualisieren\n",
        "        self.w0_old = w0\n",
        "        self.w1_old = w1\n",
        "        self.theta_old = theta\n",
        "\n",
        "\n",
        "vis = TrennebenenPlotter(data, targets, w0, w1, theta)\n",
        "fig, ax = plt.subplots(figsize = (5,5))\n",
        "lim = plot_data(data, targets, ax)\n",
        "_ = plot_boundary(w0,  w1, theta, lim, ax, \n",
        "    label=\"aktuelle Entscheidungsgrenze\")\n",
        "_ = plt.legend(bbox_to_anchor=(1.05, 1))\n"
      ],
      "execution_count": null,
      "outputs": []
    },
    {
      "cell_type": "markdown",
      "source": [
        "### Lernen"
      ],
      "metadata": {
        "id": "nojfxPbEPP18"
      }
    },
    {
      "cell_type": "code",
      "source": [
        "steps = 200 # Lernschritte:  Anzahl der Datenpunkte die auf einen Fehler untersucht und gegebenenfalls geupdate werden\n",
        "lernrate = 0.1 # Wie stark die einzelnen Updateschritte sind\n",
        "\n",
        "wait_time = 2 # Zeit zwischen 2 Schritten für die Anzeige (je länger desto mehr Zeit zum betrachten)"
      ],
      "metadata": {
        "id": "Ywobu9DXrsOU"
      },
      "execution_count": 25,
      "outputs": []
    },
    {
      "cell_type": "code",
      "metadata": {
        "id": "A50cEqo8QGL6",
        "cellView": "form"
      },
      "source": [
        "#@title\n",
        "\n",
        "#@markdown Immer wenn ein falsch klassifizierter Punkt gefunden wird, wird das Update visualisiert.\n",
        "#@markdown Öffnen Sie den Code wenn Sie die Lernregel interessiert!\n",
        "\n",
        "grid = widgets.Grid(1, 1, header_row=False, header_column=False)\n",
        "for i in range(steps):\n",
        "\n",
        "    # wähle den nächsten Datenpunkt\n",
        "    datenpunkt = data[bisherige_updates%len(data)]\n",
        "    gewueschter_output = targets[bisherige_updates%len(data)]\n",
        "\n",
        "    # berechne den Output\n",
        "    perceptron_output = perceptron(datenpunkt, w0, w1, theta)\n",
        "\n",
        "    # und vegleiche ihn mit dem gewünschten Output\n",
        "    fehler = gewueschter_output - perceptron_output \n",
        "\n",
        "    if fehler != 0:\n",
        "        # schiebe die Parameter (Trennebene) ein Stück in Richtung des falsch\n",
        "        # kategorisierten Punkts\n",
        "        w0 = w0 + lernrate * fehler * datenpunkt[0]\n",
        "        w1 = w1 + lernrate * fehler * datenpunkt[1]   \n",
        "        theta = theta + lernrate * fehler\n",
        "\n",
        "        with grid.output_to(0, 0):\n",
        "            grid.clear_cell()\n",
        "            vis.plot_update(datenpunkt, w0, w1, theta)\n",
        "            plt.title('updates '+str(bisherige_updates))\n",
        "            plt.show()\n",
        "        if steps > 1:\n",
        "            time.sleep(wait_time)\n",
        "\n",
        "    bisherige_updates += 1\n",
        "\n",
        "\n",
        "with grid.output_to(0, 0):\n",
        "    grid.clear_cell()\n",
        "    vis.plot_update(datenpunkt, w0, w1, theta, old=False)\n",
        "    plt.title('updates '+str(bisherige_updates))"
      ],
      "execution_count": null,
      "outputs": []
    },
    {
      "cell_type": "markdown",
      "source": [
        "## Aufgaben: Experimente\n",
        "\n",
        "1. Varieren Sie die Lerneinstellungen. Was beobachten Sie?\n",
        "  * `lernrate`: Wie stark die Gewichte bei jedem Klassifizierungsfehler verändert werden\n",
        "  * `steps`: Wieviele Datenpunkte auf Fehler untersucht werden\n",
        "\n",
        "2. Ändern Sie auch die Anfangsparameter (`w0`, `w1`, `theta`) des Perceptron. Was beobachten Sie?\n",
        "\n",
        "3. Verringern Sie den Parameter `separation`. Was beobachten Sie?"
      ],
      "metadata": {
        "id": "WoHF9o6_QMKT"
      }
    },
    {
      "cell_type": "code",
      "source": [],
      "metadata": {
        "id": "jHjENt3IRHyW"
      },
      "execution_count": null,
      "outputs": []
    }
  ]
}