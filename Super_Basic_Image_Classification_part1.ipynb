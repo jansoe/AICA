{
  "nbformat": 4,
  "nbformat_minor": 0,
  "metadata": {
    "colab": {
      "provenance": [],
      "include_colab_link": true
    },
    "kernelspec": {
      "name": "python3",
      "display_name": "Python 3"
    },
    "accelerator": "GPU"
  },
  "cells": [
    {
      "cell_type": "markdown",
      "metadata": {
        "id": "view-in-github",
        "colab_type": "text"
      },
      "source": [
        "<a href=\"https://colab.research.google.com/github/jansoe/AICA/blob/main/Super_Basic_Image_Classification_part1.ipynb\" target=\"_parent\"><img src=\"https://colab.research.google.com/assets/colab-badge.svg\" alt=\"Open In Colab\"/></a>"
      ]
    },
    {
      "cell_type": "markdown",
      "metadata": {
        "id": "kJLb0L98ur9d"
      },
      "source": [
        "# A simple Artifical Neural Network"
      ]
    },
    {
      "cell_type": "code",
      "metadata": {
        "id": "2D8gzaqdFm3J"
      },
      "source": [
        "import tensorflow as tf\n",
        "import matplotlib.pyplot as plt"
      ],
      "execution_count": 1,
      "outputs": []
    },
    {
      "cell_type": "markdown",
      "metadata": {
        "id": "OOh2DRwrLoJN"
      },
      "source": [
        "## The Data\n"
      ]
    },
    {
      "cell_type": "markdown",
      "metadata": {
        "id": "7aOlul7618kS"
      },
      "source": [
        "Our toy data: The MNIST dastaset (handwritten digit recognition)"
      ]
    },
    {
      "cell_type": "code",
      "metadata": {
        "id": "6FK0XF6p1tJv",
        "colab": {
          "base_uri": "https://localhost:8080/"
        },
        "outputId": "197d86a8-8ed5-41e6-ecd6-f2407784676d"
      },
      "source": [
        "mnist = tf.keras.datasets.mnist\n",
        "(train_images, train_labels), (test_images, test_labels) = mnist.load_data()\n",
        "\n",
        "# scaling the pixel values to the range (-1, 1) \n",
        "train_images = (train_images/255 - 0.5) * 2\n",
        "test_images = (test_images/255 - 0.5) * 2"
      ],
      "execution_count": null,
      "outputs": [
        {
          "output_type": "stream",
          "name": "stdout",
          "text": [
            "Downloading data from https://storage.googleapis.com/tensorflow/tf-keras-datasets/mnist.npz\n",
            "11490434/11490434 [==============================] - 2s 0us/step\n"
          ]
        }
      ]
    },
    {
      "cell_type": "code",
      "metadata": {
        "id": "ipAYhZWdjaKs",
        "colab": {
          "base_uri": "https://localhost:8080/",
          "height": 452
        },
        "outputId": "c1bc4344-023c-4ba8-fca2-e54299f115f3"
      },
      "source": [
        "_ = plt.imshow(test_images[2], cmap=plt.cm.gray)\n",
        "_ = plt.title('Label: %s'%test_labels[2])"
      ],
      "execution_count": null,
      "outputs": [
        {
          "output_type": "display_data",
          "data": {
            "text/plain": [
              "<Figure size 640x480 with 1 Axes>"
            ],
            "image/png": "[encoded data removed]"
          },
          "metadata": {}
        }
      ]
    },
    {
      "cell_type": "code",
      "metadata": {
        "id": "c4gvGiq8qxOo",
        "colab": {
          "base_uri": "https://localhost:8080/"
        },
        "outputId": "9a45eb42-8407-41fb-bf1f-f9989a0f31d8"
      },
      "source": [
        "train_images.shape"
      ],
      "execution_count": null,
      "outputs": [
        {
          "output_type": "execute_result",
          "data": {
            "text/plain": [
              "(60000, 28, 28)"
            ]
          },
          "metadata": {},
          "execution_count": 4
        }
      ]
    },
    {
      "cell_type": "markdown",
      "metadata": {
        "id": "lRX-plXXq5Ta"
      },
      "source": [
        "The training data conatins 60.000 samples of handwritten digits. \n",
        "The data is inherently 2D (28x28 pixel).\n",
        "\n",
        "For our first network we will create now a simple 1D-Vector by flattening the images and thus discarding the 2D neighbourhood structure."
      ]
    },
    {
      "cell_type": "code",
      "metadata": {
        "id": "9RaVzw2Vq4d8",
        "colab": {
          "base_uri": "https://localhost:8080/"
        },
        "outputId": "ddc92a34-5841-4532-8dff-9d5e0a6aa924"
      },
      "source": [
        "train_images_flat = train_images.reshape((-1, 28*28))\n",
        "test_images_flat = test_images.reshape((-1, 28*28))\n",
        "\n",
        "train_images_flat.shape"
      ],
      "execution_count": null,
      "outputs": [
        {
          "output_type": "execute_result",
          "data": {
            "text/plain": [
              "(60000, 784)"
            ]
          },
          "metadata": {},
          "execution_count": 5
        }
      ]
    },
    {
      "cell_type": "code",
      "metadata": {
        "colab": {
          "base_uri": "https://localhost:8080/",
          "height": 64
        },
        "id": "2yGULPVcKjQt",
        "outputId": "85c47977-a583-40e3-bcfe-6d9c8e9b1ede"
      },
      "source": [
        "plt.figure(figsize=(20,0.1))\n",
        "_ = plt.imshow(test_images_flat[2].reshape(1, -1), cmap=plt.cm.gray, aspect='auto')\n",
        "_ = plt.title('Label: %s'%test_labels[2])\n",
        "_ = plt.yticks([])"
      ],
      "execution_count": null,
      "outputs": [
        {
          "output_type": "display_data",
          "data": {
            "text/plain": [
              "<Figure size 2000x10 with 1 Axes>"
            ],
            "image/png": "[encoded data removed]"
          },
          "metadata": {}
        }
      ]
    },
    {
      "cell_type": "markdown",
      "metadata": {
        "id": "FOOqKQWLL2A0"
      },
      "source": [
        "## The most simple Network "
      ]
    },
    {
      "cell_type": "markdown",
      "metadata": {
        "id": "FVjU-G023yYc"
      },
      "source": [
        "All features (pixel values) are mapped to probabilities for all 10 labels\n",
        "\n"
      ]
    },
    {
      "cell_type": "code",
      "metadata": {
        "id": "Mc5JrZik2cqa"
      },
      "source": [
        "# A Dense Layer ist an all-to-all conection of input and output neurons\n",
        "out_layer = tf.keras.layers.Dense(\n",
        "    input_shape=(784,),             \n",
        "    units=10,                      # output: 10 units for 10 categories\n",
        "    activation='softmax',          # softmax-activation, so that probabilities sum up to 1\n",
        "    name = 'probabilities'\n",
        ")"
      ],
      "execution_count": null,
      "outputs": []
    },
    {
      "cell_type": "code",
      "metadata": {
        "id": "C9vs1_u279O2"
      },
      "source": [
        "model1 = tf.keras.models.Sequential()\n",
        "model1.add(out_layer)"
      ],
      "execution_count": null,
      "outputs": []
    },
    {
      "cell_type": "code",
      "metadata": {
        "id": "tGv2G8eN_5tD",
        "colab": {
          "base_uri": "https://localhost:8080/",
          "height": 201
        },
        "outputId": "80558c9d-450d-414e-e345-99aee1227eff"
      },
      "source": [
        "tf.keras.utils.plot_model(model1, show_shapes=True)"
      ],
      "execution_count": null,
      "outputs": [
        {
          "output_type": "execute_result",
          "data": {
            "image/png": "[encoded data removed]",
            "text/plain": [
              "<IPython.core.display.Image object>"
            ]
          },
          "metadata": {},
          "execution_count": 9
        }
      ]
    },
    {
      "cell_type": "code",
      "metadata": {
        "id": "YUuXfMJEMVdt",
        "colab": {
          "base_uri": "https://localhost:8080/"
        },
        "outputId": "cb1932a9-ee0c-4719-a5cd-1cb52e259e62"
      },
      "source": [
        "model1.summary()"
      ],
      "execution_count": null,
      "outputs": [
        {
          "output_type": "stream",
          "name": "stdout",
          "text": [
            "Model: \"sequential\"\n",
            "_________________________________________________________________\n",
            " Layer (type)                Output Shape              Param #   \n",
            "=================================================================\n",
            " probabilities (Dense)       (None, 10)                7850      \n",
            "                                                                 \n",
            "=================================================================\n",
            "Total params: 7,850\n",
            "Trainable params: 7,850\n",
            "Non-trainable params: 0\n",
            "_________________________________________________________________\n"
          ]
        }
      ]
    },
    {
      "cell_type": "markdown",
      "metadata": {
        "id": "Dow5veHRA1wX"
      },
      "source": [
        "For training the model we need to specify the loss to minimize, and the procedure to do this.\n",
        "\n",
        "For our case of `multiclass-classification` we can use the loss of `categorical_crossentropy`, which measures how many bits of uncertainty are left to obtain the true labels given our prediction.\n",
        "\n",
        "We use **sparse**`_categorical_crossentropy` because our labels are encoded sparse i.e. as integers 0,1,..,9 and not as binary **one-hot** labels: (1,0,0,0,0,0,0,0,0,0,0), (0,1,0,0,0,0,0,0,0,0,0), ...,  (0,0,0,0,0,0,0,0,0,0,1)"
      ]
    },
    {
      "cell_type": "code",
      "metadata": {
        "id": "D3Nad9XbA8XW"
      },
      "source": [
        "model1.compile(\n",
        "    loss = 'sparse_categorical_crossentropy', \n",
        "    optimizer = 'SGD',      # optimization procdure\n",
        "    metrics = ['accuracy']  # Monitoring training\n",
        ")"
      ],
      "execution_count": null,
      "outputs": []
    },
    {
      "cell_type": "markdown",
      "metadata": {
        "id": "MB4gy14O-LzI"
      },
      "source": [
        "Now we can fit our data to the model"
      ]
    },
    {
      "cell_type": "code",
      "metadata": {
        "id": "SVZUPHhm8LOD",
        "colab": {
          "base_uri": "https://localhost:8080/"
        },
        "outputId": "5c17e81d-ee9b-4d37-8223-0080a8817ba7"
      },
      "source": [
        "history = model1.fit(\n",
        "    x = train_images_flat, \n",
        "    y = train_labels,\n",
        "    batch_size = 16,\n",
        "    validation_data = (test_images_flat, test_labels),\n",
        "    epochs = 20  # one epoche is one sweep through the training data\n",
        ")"
      ],
      "execution_count": null,
      "outputs": [
        {
          "output_type": "stream",
          "name": "stdout",
          "text": [
            "Epoch 1/20\n",
            "3750/3750 [==============================] - 14s 3ms/step - loss: 0.4501 - accuracy: 0.8689 - val_loss: 0.3201 - val_accuracy: 0.9085\n",
            "Epoch 2/20\n",
            "3750/3750 [==============================] - 9s 2ms/step - loss: 0.3301 - accuracy: 0.9046 - val_loss: 0.3034 - val_accuracy: 0.9114\n",
            "Epoch 3/20\n",
            "3750/3750 [==============================] - 11s 3ms/step - loss: 0.3114 - accuracy: 0.9105 - val_loss: 0.3087 - val_accuracy: 0.9125\n",
            "Epoch 4/20\n",
            "3750/3750 [==============================] - 10s 3ms/step - loss: 0.3010 - accuracy: 0.9143 - val_loss: 0.2893 - val_accuracy: 0.9162\n",
            "Epoch 5/20\n",
            "3750/3750 [==============================] - 10s 3ms/step - loss: 0.2946 - accuracy: 0.9156 - val_loss: 0.2873 - val_accuracy: 0.9171\n",
            "Epoch 6/20\n",
            "3750/3750 [==============================] - 10s 3ms/step - loss: 0.2894 - accuracy: 0.9185 - val_loss: 0.2871 - val_accuracy: 0.9193\n",
            "Epoch 7/20\n",
            "3750/3750 [==============================] - 9s 2ms/step - loss: 0.2872 - accuracy: 0.9193 - val_loss: 0.2820 - val_accuracy: 0.9177\n",
            "Epoch 8/20\n",
            "3729/3750 [============================>.] - ETA: 0s - loss: 0.2828 - accuracy: 0.9203"
          ]
        }
      ]
    },
    {
      "cell_type": "code",
      "metadata": {
        "id": "8N-PpsB1Gm4h"
      },
      "source": [
        "plt.plot(history.history['accuracy'], label='Training')\n",
        "plt.plot(history.history['val_accuracy'], label='Validation')\n",
        "plt.ylim([.8, .95])\n",
        "plt.ylabel('Accuracy')\n",
        "plt.xlabel('Epoch')\n",
        "plt.legend()"
      ],
      "execution_count": null,
      "outputs": []
    },
    {
      "cell_type": "markdown",
      "metadata": {
        "id": "HkyCMsdtgJrW"
      },
      "source": [
        "## Getting Deeper  \n",
        "\n",
        "Additional `hidden layers` increase complexity and thus expressiveness of the network."
      ]
    },
    {
      "cell_type": "code",
      "metadata": {
        "id": "8L0RpGCv-c3e"
      },
      "source": [
        "hidden_layer = tf.keras.layers.Dense( \n",
        "    input_shape = (28*28,), \n",
        "    units=200,            # 200 units als intermediate-output\n",
        "    activation = 'relu',  # one of the most popular activation functions \n",
        "    name = 'hidden'\n",
        ") "
      ],
      "execution_count": null,
      "outputs": []
    },
    {
      "cell_type": "code",
      "metadata": {
        "id": "Q6jmSNym-cxC"
      },
      "source": [
        "# unser outputlayer wie oben\n",
        "out_layer = tf.keras.layers.Dense( \n",
        "    units=10,                      \n",
        "    activation='softmax',  \n",
        "    name= 'out'\n",
        ")"
      ],
      "execution_count": null,
      "outputs": []
    },
    {
      "cell_type": "code",
      "metadata": {
        "id": "eSx3lZlr-cpQ"
      },
      "source": [
        "model2 = tf.keras.models.Sequential()\n",
        "\n",
        "model2.add(hidden_layer)\n",
        "model2.add(out_layer)\n",
        "\n",
        "model2.compile(\n",
        "    loss = 'sparse_categorical_crossentropy',  # Klassifizierungsfehler\n",
        "    metrics = ['accuracy'],  # Anteil korrekt klassifizierter Samples des Validierungsdatensatzes\n",
        ")"
      ],
      "execution_count": null,
      "outputs": []
    },
    {
      "cell_type": "code",
      "metadata": {
        "id": "-GOOX3F3Et-t"
      },
      "source": [
        "tf.keras.utils.plot_model(model2, show_shapes=True)"
      ],
      "execution_count": null,
      "outputs": []
    },
    {
      "cell_type": "code",
      "metadata": {
        "id": "LuniAJBoMEbs"
      },
      "source": [
        "model2.summary()"
      ],
      "execution_count": null,
      "outputs": []
    },
    {
      "cell_type": "code",
      "metadata": {
        "id": "2P0A9eM7FLs-"
      },
      "source": [
        "history = model2.fit(\n",
        "    x = train_images_flat, \n",
        "    y = train_labels,\n",
        "    validation_data = (test_images_flat, test_labels),\n",
        "    epochs = 20\n",
        ")"
      ],
      "execution_count": null,
      "outputs": []
    },
    {
      "cell_type": "markdown",
      "metadata": {
        "id": "lxYWbfMrozxz"
      },
      "source": [
        "\n",
        "### Experiments Suggestions\n",
        "Observe the train and validation error \n",
        "- in/decrease the number of neurons in the `hidden layer` (getting wider)\n",
        "- with a second `hidden layer 2` (getting deeper) \n"
      ]
    }
  ]
}