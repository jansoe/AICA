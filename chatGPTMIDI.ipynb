{
  "nbformat": 4,
  "nbformat_minor": 0,
  "metadata": {
    "colab": {
      "provenance": [],
      "collapsed_sections": [
        "I3UB-oP9grY6"
      ],
      "authorship_tag": "ABX9TyO82ZgEkEuaxMBcWEpo3ctX",
      "include_colab_link": true
    },
    "kernelspec": {
      "name": "python3",
      "display_name": "Python 3"
    },
    "language_info": {
      "name": "python"
    }
  },
  "cells": [
    {
      "cell_type": "markdown",
      "metadata": {
        "id": "view-in-github",
        "colab_type": "text"
      },
      "source": [
        "<a href=\"https://colab.research.google.com/github/jansoe/AICA/blob/main/chatGPTMIDI.ipynb\" target=\"_parent\"><img src=\"https://colab.research.google.com/assets/colab-badge.svg\" alt=\"Open In Colab\"/></a>"
      ]
    },
    {
      "cell_type": "markdown",
      "source": [
        "![bach_vs_chatGPT.jpg](data:image/jpeg;base64,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)\n",
        "---"
      ],
      "metadata": {
        "id": "pL5T4KFxIl6p"
      }
    },
    {
      "cell_type": "markdown",
      "source": [
        "### Installation von notwendigen Paketen und Funktionsdefinitionen (bitte ausführen)"
      ],
      "metadata": {
        "id": "I3UB-oP9grY6"
      }
    },
    {
      "cell_type": "code",
      "source": [
        "%%capture\n",
        "# installing some non-standard python packages\n",
        "!pip install mido\n",
        "!pip install pypianoroll\n",
        "!apt install fluidsynth\n",
        "!pip install midi2audio\n",
        "!pip install --upgrade music21"
      ],
      "metadata": {
        "id": "H3seUKdXhF52"
      },
      "execution_count": null,
      "outputs": []
    },
    {
      "cell_type": "code",
      "source": [
        "%%capture\n",
        "# some stuff needed to display scores inside a notebook\n",
        "!add-apt-repository ppa:mscore-ubuntu/mscore-stable -y\n",
        "!apt-get update\n",
        "!apt-get install musescore\n",
        "!apt-get install xvfb"
      ],
      "metadata": {
        "id": "pAV4JS6FQWb_"
      },
      "execution_count": null,
      "outputs": []
    },
    {
      "cell_type": "code",
      "source": [],
      "metadata": {
        "id": "uz6dzOp6UlBR"
      },
      "execution_count": null,
      "outputs": []
    },
    {
      "cell_type": "code",
      "source": [
        "file_ID = \"18_HRx9G7-IKlEBDguJam7EIfv0WvU67l\"\n",
        "filename = 'default_sound_font.sf2'\n",
        "!wget --no-check-certificate 'https://docs.google.com/uc?export=download&id={file_ID}' -O {filename}"
      ],
      "metadata": {
        "id": "smVfxhxNhGHg"
      },
      "execution_count": null,
      "outputs": []
    },
    {
      "cell_type": "code",
      "source": [
        "# import ting some libraries\n",
        "import music21\n",
        "us = music21.environment.UserSettings()\n",
        "us['musescoreDirectPNGPath'] = '/usr/bin/mscore'\n",
        "us['directoryScratch'] = '/tmp'\n",
        "import glob\n",
        "import mido\n",
        "from mido import Message, MidiFile, MidiTrack\n",
        "from IPython.display import Audio, clear_output,display\n",
        "from midi2audio import FluidSynth\n",
        "import pypianoroll\n",
        "from matplotlib import pyplot as plt\n",
        "from random import choice\n",
        "import numpy as np\n",
        "import pretty_midi"
      ],
      "metadata": {
        "id": "2i0jI74GhIg1"
      },
      "execution_count": null,
      "outputs": []
    },
    {
      "cell_type": "code",
      "source": [
        "def play_midi(midi_file):\n",
        "    FluidSynth().midi_to_audio(midi_file, 'output_0.wav')\n",
        "    display(Audio(filename = 'output_0.wav'))"
      ],
      "metadata": {
        "id": "IqaRLDODjzvs"
      },
      "execution_count": null,
      "outputs": []
    },
    {
      "cell_type": "code",
      "source": [
        "def display_midi(midi_file):\n",
        "    midi = music21.converter.parse(midi_file)\n",
        "    midi.show()"
      ],
      "metadata": {
        "id": "HB5UPtwGne9q"
      },
      "execution_count": null,
      "outputs": []
    },
    {
      "cell_type": "code",
      "source": [
        "def trim_midi(input_file,output_file,bars = 4,how = 'random'):\n",
        "    midi_data = pretty_midi.PrettyMIDI(bach_file)\n",
        "    numerator = midi_data.time_signature_changes[0].numerator\n",
        "    denominator = midi_data.time_signature_changes[0].denominator\n",
        "    pr = pypianoroll.read(input_file)\n",
        "    factor = denominator/pr.resolution/numerator/4\n",
        "    total_bars = int(np.ceil(pr.get_length()*factor))\n",
        "    if how == 'start':\n",
        "        pr = pr.trim(start=0,end = int(bars/factor))\n",
        "    elif how == 'random':\n",
        "        start = np.random.randint(0,total_bars-bars)\n",
        "        pr =  pr.trim(start = start,end =  int(start+bars/factor))\n",
        "    pm = pr.to_pretty_midi()\n",
        "    time_signature = pretty_midi.TimeSignature(numerator=numerator, denominator=denominator,time = 0)\n",
        "    pm.time_signature_changes.append(time_signature)\n",
        "    pm.write(output_file)\n"
      ],
      "metadata": {
        "id": "Oqz6dKNsAbKY"
      },
      "execution_count": null,
      "outputs": []
    },
    {
      "cell_type": "markdown",
      "source": [
        "# Was kann **chatGPT**?\n",
        "Zu Beginn beschäftigen wir uns ein Wenig mit chatGPT. Obwohl es ein reines Sprachmodel ist, *versteht* es doch mehr von Musik als manch einer erwartet hätte. An einem der letzten Termine haben Sie bereits exploriert, was chatGPT mit der ABC-Notation anstellen kann. Heute widmen wir uns einem reichhaltigeren Format: dem [Midi](https://de.wikipedia.org/wiki/MIDI)-Protokoll.\n",
        "\n",
        "Midi ist sowohl ein Kommunikationsprotokoll mit dem elektronische Musikgeräte kommunizieren können als auch eine Art Notenschrift für Computer, die als binäre (also von Menschen nicht lesbaren) Dateien gespeichert wird.\n",
        "\n",
        "\n",
        "Midi-*Events* oder *Messages* können viele verschiedene Aspekte von musikalischer Performance kodieren. Die Spezifikation der Protokolls fÜllt ganze [Bände](https://www.midi.org/specifications). Für uns ist heute nur die Erzeugung von einfachen Tönen interessant. Ein solches Event sieht ungefähr so aus:\n",
        "\n",
        "\n",
        "```\n",
        "note_on channel=0 note=60 velocity=64 time=0\n",
        "```\n",
        "\n",
        "Hier soll Note nummer 60 zum Zeitpunkt 0 aud Kanal 0 mit Lautsärke 64 gepielt werden. Die Töne werden chromatisch als Zahl zwischen 0 und 127 angegeben, wobei 60 das mittlere C ist (C4). Die lautstärke variiert zwischen 0 (aus) und 127 (maximal laut). Mit Hilfe der Kanal-Zahl kann mann verschiedene Stimmen definieren.\n",
        "\n",
        "Um mit chatGPT kommunizieren zu können, wäre es gut, eine einfachere Notation zu definieren. Wir ignorieren die Lautstärke und wollen uns auch nicht mit dem absoluten Timing auseinandersetzen.  Uns würde also eine liste von Ton-Dauer Paaren genügen, um eine Melodie zu definieren.\n",
        "\n",
        "Ich habe im Vorfeld chatGPT gebeten, eine Funktion zu schreiben, die aus solch einer Liste eine Mididatei erzeugt, die wir dann abspielen und Darstellen können. Nach längerem Hin-und-Her kam die folgende Funktion dabei heraus:\n",
        "\n",
        "\n",
        "\n",
        "\n",
        "\n",
        "\n"
      ],
      "metadata": {
        "id": "5iuS2W2IbD0r"
      }
    },
    {
      "cell_type": "code",
      "source": [
        "# this function was created with the aid of chatGPT. It takes as dictionary\n",
        "# of lists of tuples with note names and durations like this:\n",
        "# {\"Track1\": [(60, 1), (64, 0.5), (67, 0.5), (72, 2)],\n",
        "#  \"Track2\": [(62, 0.5), (65, 1), (69, 0.5), (74, 2)]}\n",
        "# the note names correspond to the midi indixes (0-127) and the\n",
        "# durations are specified as multiples of quarter notes.\n",
        "\n",
        "def bpm_to_tempo(bpm):\n",
        "    return int(60 * 1e6 / bpm)  # Convert BPM to microseconds per beat\n",
        "\n",
        "def create_midi(tracks, output_file,bpm=120, ticks_per_beat=480,time_signature = (4,4)):\n",
        "    # Create a new MIDI file\n",
        "    midi = MidiFile(ticks_per_beat=ticks_per_beat)\n",
        "\n",
        "    # Set the tempo\n",
        "    tempo = bpm_to_tempo(bpm)\n",
        "\n",
        "    # Create a meta track for tempo (and potentially other meta information)\n",
        "    meta_track = MidiTrack()\n",
        "    midi.tracks.append(meta_track)\n",
        "\n",
        "    # Add the set_tempo MetaMessage to the meta track\n",
        "    meta_track.append(mido.MetaMessage('set_tempo', tempo=tempo, time=0))\n",
        "\n",
        "\n",
        "    # Iterate over each track in the input dictionary\n",
        "    for track_name, note_durations in tracks.items():\n",
        "        # Create a new track and add it to the MIDI file\n",
        "        track = MidiTrack()\n",
        "        midi.tracks.append(track)\n",
        "\n",
        "        # Add a track name MetaMessage\n",
        "        track.append(mido.MetaMessage('track_name', name=track_name, time=0))\n",
        "\n",
        "        # Add the time_signature MetaMessage to the meta track\n",
        "        numerator, denominator = time_signature\n",
        "        meta_track.append(mido.MetaMessage('time_signature', numerator=numerator,\n",
        "                                           denominator=denominator, clocks_per_click=24,\n",
        "                                           notated_32nd_notes_per_beat=8, time=0))\n",
        "\n",
        "        # Initialize the last event time\n",
        "        last_event_ticks = 0\n",
        "\n",
        "        # Iterate through the list of (note, duration) tuples for this track\n",
        "        for note, duration in note_durations:\n",
        "            note_ticks = int(ticks_per_beat * duration)\n",
        "\n",
        "            if note is not None:\n",
        "                # Add a note\n",
        "                track.append(Message('note_on', note=note, velocity=64, time=last_event_ticks))\n",
        "                track.append(Message('note_off', note=note, velocity=64, time=note_ticks))\n",
        "                last_event_ticks = 0  # Reset the last event time for the next note\n",
        "            else:  # Rest between notes\n",
        "                last_event_ticks += note_ticks\n",
        "    # save the Midi file\n",
        "    midi.save(output_file)\n",
        "\n",
        "# Example usage:\n",
        "# create_midi({\"Track1\": [(60, 1), (64, 0.5), (67, 0.5), (72, 2)],\n",
        "#              \"Track2\": [(62, 0.5), (65, 1), (69, 0.5), (74, 2)]}, bpm=120)\n",
        "\n"
      ],
      "metadata": {
        "id": "hkKRv-Dyp8bW"
      },
      "execution_count": null,
      "outputs": []
    },
    {
      "cell_type": "markdown",
      "source": [
        "Wir können nun also ein *dictionary* erstellen, das mehrere Listen von Tonfolgen enthalten kann, die dann gleichzeitig abgespielt werden können. Die Dauer der Töne wird in vielfachen von Viertelnoten angegeben und der Wert `None` bedeutet eine Pause.\n",
        "\n",
        "### Aufgabe:\n",
        "Füllen Sie die Liste in der folgenden Zelle, um eine einfache Melodie zu erzeugen. Führen sie die beiden nächsten Zellen aus, um die Melodie darzustellen und abzuspielen.\n",
        "\n",
        "Die folgende Darstellung wird dabei hilfreich sein:\n",
        "![pitch-to-midi.png](data:image/png;base64,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)"
      ],
      "metadata": {
        "id": "d7HyGLF3knlz"
      }
    },
    {
      "cell_type": "code",
      "source": [
        "# definieren Sie eine Melodie\n",
        "melodie = {'stimme_1':[(60,1)]}"
      ],
      "metadata": {
        "id": "LsUjiU4xlu1e"
      },
      "execution_count": null,
      "outputs": []
    },
    {
      "cell_type": "code",
      "source": [
        "# Erzeugung einer Mididatei\n",
        "create_midi(melodie,'melodie.midi',time_signature = (3,4))\n",
        "display_midi('melodie.midi')\n",
        "play_midi('melodie.midi')"
      ],
      "metadata": {
        "id": "SHptF9hCnwEM"
      },
      "execution_count": null,
      "outputs": []
    },
    {
      "cell_type": "markdown",
      "source": [
        "## **chatGPT** *komponiert*\n",
        "Nun lassen Sie uns versuchen, chatGPT dazu zu bringen, eine Melodie in dieser Form zu erzeugen.\n",
        "Zunächst müssen wir chatGPT unser Format erklären.\n",
        "### Aufgabe\n",
        "Öffnen Sie einen neuen chatGPT-chat und fügen Sie die folgende Erklärung ein:\n",
        "\n",
        "*You are a composer. You communicate music in the form of a python dictionary. Each key in the dictionary corresponds to a voice in the musical piece. The corresponding items in the dictionary are lists of tuples where each tuple represents a note described by a pitch number and a duration. the pitch number between 0-127 corresponds to the midi protocol where 60 represents middle C. The duration is encoded as a fraction or multiple of a quarter note. Rests are represented by the note value None.*\n",
        "\n",
        "Um zu testen, ob Sie verstanden wurden, bitten Sie chatGPT nun eine einfache Melodie zu komponieren und fügen das Ergebnis in die nächste Zelle ein."
      ],
      "metadata": {
        "id": "GbosfmGHsc94"
      }
    },
    {
      "cell_type": "code",
      "source": [
        "melodie = {}"
      ],
      "metadata": {
        "id": "uh_BDXktu11r"
      },
      "execution_count": null,
      "outputs": []
    },
    {
      "cell_type": "code",
      "source": [
        "# Erzeugung einer Mididatei\n",
        "create_midi(melodie,'melodie.midi')\n",
        "display_midi('melodie.midi')\n",
        "play_midi('melodie.midi')"
      ],
      "metadata": {
        "id": "s5YFsYYuu6YI"
      },
      "execution_count": null,
      "outputs": []
    },
    {
      "cell_type": "markdown",
      "source": [
        "Wenn Sie Glück hatten, hat chatGPT Ihnen eine syntaktisch korrekte Antwort gegeben. Vermutlich lässt die Melodie aber noch Wünsche offen.\n",
        "\n",
        "### Aufgabe\n",
        "Versuchen Sie durch genauere Beschreibung der gewünschten Melodie, ein besseres Ergebnis zu erzielen. Je mehr input Sie chatGPT geben, desto mehr Struktur wird es erzeugen. Machen Sie konstruktive Vorschläge und iterieren Sie, bis Sie mit dem Ergebnis zufrieden sind."
      ],
      "metadata": {
        "id": "IgwO3o6pwwB3"
      }
    },
    {
      "cell_type": "code",
      "source": [
        "melodie = {}"
      ],
      "metadata": {
        "id": "Y2_8QZalxf1K"
      },
      "execution_count": null,
      "outputs": []
    },
    {
      "cell_type": "code",
      "source": [
        "# Erzeugung einer Mididatei\n",
        "create_midi(melodie,'melodie.midi')\n",
        "display_midi('melodie.midi')\n",
        "play_midi('melodie.midi')"
      ],
      "metadata": {
        "id": "Y1Ra_wNxxkFa"
      },
      "execution_count": null,
      "outputs": []
    },
    {
      "cell_type": "markdown",
      "source": [
        "### Aufgabe\n",
        "Prompten Sie nun eine zweite Stimme. Auch hier ist wieder geduldiges Erklären und eine Reihe von Anläufen gefragt."
      ],
      "metadata": {
        "id": "XsXYsDnizfit"
      }
    },
    {
      "cell_type": "code",
      "source": [
        "melodie =  {}\n",
        "\n"
      ],
      "metadata": {
        "id": "RGV-k4ZNz1Es"
      },
      "execution_count": null,
      "outputs": []
    },
    {
      "cell_type": "code",
      "source": [
        "# Erzeugung einer Mididatei\n",
        "create_midi(melodie,'melodie.midi')\n",
        "display_midi('melodie.midi')\n",
        "play_midi('melodie.midi')"
      ],
      "metadata": {
        "id": "nb4-ImQVz2uW"
      },
      "execution_count": null,
      "outputs": []
    },
    {
      "cell_type": "markdown",
      "source": [
        "## Lernen vom **Meister**\n",
        "So weit, so gut. Kommen wir nun zum oben angekündigten Duell. Was passiert, wenn wir chatGPT mit *echter* Musik füttern? Hierzu laden wir zunächst einen Datensatz von Midifiles mit Bachchorälen herunter."
      ],
      "metadata": {
        "id": "Uy8FUjBE16B0"
      }
    },
    {
      "cell_type": "code",
      "source": [
        "!git clone https://github.com/jamesrobertlloyd/infinite-bach.git"
      ],
      "metadata": {
        "id": "JJZEe5ia2eWp"
      },
      "execution_count": null,
      "outputs": []
    },
    {
      "cell_type": "code",
      "source": [
        "midi_files = glob.glob('infinite-bach/**/*.mid',recursive = True)\n",
        "print(len(mid_files))"
      ],
      "metadata": {
        "id": "XYGBSvvb3VrN"
      },
      "execution_count": null,
      "outputs": []
    },
    {
      "cell_type": "markdown",
      "source": [
        "Wir haben also 499 Bachchoräle heruntergeladen. Jetzt brauchen wir eine Funktion, die Mididateien in unser vereinfachtes Notenformat umwandelt. Diese Funktion ist wieder mit Hilfe von chatGPT entstanden:"
      ],
      "metadata": {
        "id": "nB73s-tI3Z68"
      }
    },
    {
      "cell_type": "code",
      "source": [
        "def read_midi(filename):\n",
        "    # Load the MIDI file\n",
        "    midi = mido.MidiFile(filename)\n",
        "\n",
        "    # Prepare the output dictionary\n",
        "    tracks = {}\n",
        "\n",
        "    # Iterate over each track in the MIDI file\n",
        "    for i, track in enumerate(midi.tracks):\n",
        "        # Initialize the list of (note, duration) tuples for this track\n",
        "        note_durations = []\n",
        "\n",
        "        # Initialize the time\n",
        "        last_msg_ticks = 0\n",
        "        note_on_ticks = None\n",
        "        note = None\n",
        "\n",
        "        # Iterate over each message in the track\n",
        "        for msg in track:\n",
        "            if msg.type == 'note_on' and msg.velocity > 0:\n",
        "                # If a previous note was playing, calculate its duration and add to the list\n",
        "                if note is not None:\n",
        "                    duration = (last_msg_ticks - note_on_ticks) / midi.ticks_per_beat\n",
        "                    note_durations.append((note, duration))\n",
        "\n",
        "                # Start a new note\n",
        "                note = msg.note\n",
        "                note_on_ticks = last_msg_ticks\n",
        "\n",
        "            elif msg.type in ('note_off', 'note_on') and note is not None:\n",
        "                # End the current note\n",
        "                duration = (last_msg_ticks + msg.time - note_on_ticks) / midi.ticks_per_beat\n",
        "                note_durations.append((note, duration))\n",
        "                note = None\n",
        "\n",
        "            last_msg_ticks += msg.time\n",
        "\n",
        "        # If a note was playing at the end of the track, calculate its duration and add to the list\n",
        "        if note is not None:\n",
        "            duration = (last_msg_ticks - note_on_ticks) / midi.ticks_per_beat\n",
        "            note_durations.append((note, duration))\n",
        "\n",
        "        # Find the track name\n",
        "        track_name = f\"Track {i+1}\"\n",
        "        for msg in track:\n",
        "            if msg.type == 'track_name':\n",
        "                track_name = msg.name\n",
        "                break\n",
        "\n",
        "        # Add this track to the output dictionary\n",
        "        tracks[track_name] = note_durations\n",
        "\n",
        "    if 'Track 1' in tracks.keys() and len(tracks['Track 1'])==0:\n",
        "        del tracks['Track 1']\n",
        "    return tracks\n",
        "\n",
        "# Example usage:\n",
        "# print(read_midi('music.midi'))\n"
      ],
      "metadata": {
        "id": "n9whdIgFqghM"
      },
      "execution_count": null,
      "outputs": []
    },
    {
      "cell_type": "markdown",
      "source": [
        "Um zu sehen, ob es funktioniert hat, wählen wir eine zufällige Datei aus und stellen sie dar."
      ],
      "metadata": {
        "id": "TmeM1gRV36bN"
      }
    },
    {
      "cell_type": "code",
      "source": [
        "# auswahl einer zufälligen Datei\n",
        "bach_file = choice(midi_files)"
      ],
      "metadata": {
        "id": "z7Mj5poOrLcx"
      },
      "execution_count": null,
      "outputs": []
    },
    {
      "cell_type": "code",
      "source": [
        "# Darstellung als Noten\n",
        "display_midi(bach_file)\n",
        "play_midi(bach_file)"
      ],
      "metadata": {
        "id": "z2BHV18G4Yri"
      },
      "execution_count": null,
      "outputs": []
    },
    {
      "cell_type": "code",
      "source": [
        "music = read_midi(bach_file)\n",
        "print(music)"
      ],
      "metadata": {
        "id": "4xR-igr-5QZp"
      },
      "execution_count": null,
      "outputs": []
    },
    {
      "cell_type": "markdown",
      "source": [
        "Da wir chatGPT nicht überfordern wollen, schneiden wir die Choräle in kleinere häppchen. Diese können wir mit der Funktion `trim_midi` erreichen."
      ],
      "metadata": {
        "id": "u-bZpddC340z"
      }
    },
    {
      "cell_type": "code",
      "source": [
        "# cut 4 bars from the beginning\n",
        "trim_midi(bach_file,'trimmed_bach_file.mid', bars =4, how = 'start')\n",
        "display_midi('trimmed_bach_file.mid')"
      ],
      "metadata": {
        "id": "sMF3l40Qqg2s"
      },
      "execution_count": null,
      "outputs": []
    },
    {
      "cell_type": "markdown",
      "source": [
        "In unserer Notation sehen die ersten vier Takte so aus:"
      ],
      "metadata": {
        "id": "rGU10xNbBBWd"
      }
    },
    {
      "cell_type": "code",
      "source": [
        "music =  read_midi('trimmed_bach_file.mid')\n",
        "print(music)"
      ],
      "metadata": {
        "id": "LbvfEmteqyQr"
      },
      "execution_count": null,
      "outputs": []
    },
    {
      "cell_type": "markdown",
      "source": [
        "### Aufgabe\n",
        "Kopieren Sie diese vier Takte, und bitten Sie chatGPT, eine Fortsetzung zu komponieren. Die Fortsetzung können Sie wieder unten einfügen, um sie zu inspzieren.\n"
      ],
      "metadata": {
        "id": "g0MNcpB7BiZr"
      }
    },
    {
      "cell_type": "code",
      "source": [
        "fortsetzung = {}"
      ],
      "metadata": {
        "id": "eo6QCFA4q1IK"
      },
      "execution_count": null,
      "outputs": []
    },
    {
      "cell_type": "code",
      "source": [
        "create_midi(fortsetzung,'fortsetzung.midi')\n",
        "display_midi('fortsetzung.midi')\n",
        "play_midi('fortsetzung.midi')"
      ],
      "metadata": {
        "id": "vyk_EdcCrXHw"
      },
      "execution_count": null,
      "outputs": []
    },
    {
      "cell_type": "markdown",
      "source": [
        "Wenn wir glÜck haben, wurde die Aufgabe formell erfÜllt. Die Komposition reicht aber vermutlich noch nicht an das heran, was wir von Bach gewohnt sind.\n",
        "Können wir chatCPT *trainieren*?\n",
        "## Aufgabe\n",
        "Die folgenden Zellen ermöglichen Ihnen, zufällige Sequenzen aus den 499 Chorälen zu erzeugen. Füttern Sie chatGPT mit Beispielen von gelungeneren Kompositionen. Probieren Sie nach einigen versuchen aus, ob das *Weiterkomponieren* jetzt besser funktionert."
      ],
      "metadata": {
        "id": "nVq7L9sRC0IC"
      }
    },
    {
      "cell_type": "code",
      "source": [
        "takte = 8 # die Länge der Schnipsel in Takten\n",
        "random_file = choice(midi_files)\n",
        "trim_midi(random_file,'random_snippet.mid',bars = takte,how =  'random')\n",
        "music = read_midi('random_snippet.mid')\n",
        "print(music)"
      ],
      "metadata": {
        "id": "stn_SAAOCzeG"
      },
      "execution_count": null,
      "outputs": []
    },
    {
      "cell_type": "markdown",
      "source": [
        "Wenn Sie einige Trainingsbeispiele eingegeben haben, fordern Sie chatGPT erneut auf, die Sequenz von weiter oben *fertigzukomponieren*. Fügen Sie das Ergebnis unten ein. Hat sich die Qualität verbessert?"
      ],
      "metadata": {
        "id": "rlvKTtzAFReT"
      }
    },
    {
      "cell_type": "code",
      "source": [
        "music = {}\n",
        "\n"
      ],
      "metadata": {
        "id": "TkEnjWsvVcOq"
      },
      "execution_count": null,
      "outputs": []
    },
    {
      "cell_type": "code",
      "source": [
        "create_midi(music,'fortsetzung_2.midi')\n",
        "display_midi('fortsetzung_2.midi')\n",
        "play_midi('fortsetzung_2.midi')"
      ],
      "metadata": {
        "id": "Z7uPcjlMjxYb"
      },
      "execution_count": null,
      "outputs": []
    },
    {
      "cell_type": "markdown",
      "source": [
        "Hat sich die Qualität des Ouputs verändert? Würden Sie sagen, dass chatGPT in dieser Session etwas *gelernt* hat?\n",
        "\n",
        "### Aufgabe\n",
        "Nach diesem intensiven Kompositionsunterricht, bitten Sie chatGPT, eine eigenständige Komposition unter berücksichtigung aller bisherigen Inputs zu erstellen."
      ],
      "metadata": {
        "id": "ww4j5O1GI8pc"
      }
    },
    {
      "cell_type": "code",
      "source": [
        "komposition = {}\n"
      ],
      "metadata": {
        "id": "DFjQ3I_LF_Yn"
      },
      "execution_count": null,
      "outputs": []
    },
    {
      "cell_type": "code",
      "source": [
        "create_midi(komposition,'komposition.midi')\n",
        "display_midi('komposition.midi')\n",
        "play_midi('komposition.midi')"
      ],
      "metadata": {
        "id": "wiN7PdljJfjS"
      },
      "execution_count": null,
      "outputs": []
    },
    {
      "cell_type": "markdown",
      "source": [
        "Wir haben einen klaren Sieger:\n",
        "\n",
        "![shady_bach.jpg](data:image/jpeg;base64,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)"
      ],
      "metadata": {
        "id": "JVFFQtp8JoUR"
      }
    },
    {
      "cell_type": "code",
      "source": [],
      "metadata": {
        "id": "J1UtmNqULjFV"
      },
      "execution_count": null,
      "outputs": []
    }
  ]
}